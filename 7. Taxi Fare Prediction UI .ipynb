{
 "cells": [
  {
   "cell_type": "code",
   "execution_count": 15,
   "id": "7bf0f425",
   "metadata": {},
   "outputs": [
    {
     "name": "stdout",
     "output_type": "stream",
     "text": [
      "Enter trip distance (km): 1\n",
      "Enter trip duration (minutes): 1\n",
      "Enter tip amount: 0\n",
      "Is it a holiday? (1 for Yes, 0 for No): 1\n",
      "Enter pickup time of day (morning/afternoon/evening/night): afternoon\n",
      "Enter pickup season (winter/spring/summer/autumn): winter\n",
      "Enter passenger count category (low/medium/high): low\n",
      "Enter pickup day type (weekday/weekend): weekday\n",
      "Enter pickup location (downtown/suburbs/airport): downtown\n",
      "Enter drop-off location (downtown/suburbs/airport): downtown\n",
      "Predicted Fare: 139.96099853515625\n"
     ]
    }
   ],
   "source": [
    "import pandas as pd\n",
    "import numpy as np\n",
    "import joblib\n",
    "\n",
    "# Load the model and transformers\n",
    "xgb_model = joblib.load('xgb_model_polynomial.pkl')\n",
    "encoder = joblib.load('encoder.pkl')\n",
    "poly = joblib.load('poly.pkl')\n",
    "\n",
    "# Function to calculate PCA values based on trip distance and duration\n",
    "def calculate_pca_values(trip_distance, trip_duration):\n",
    "    pca1 = np.log1p(trip_distance) - np.log1p(trip_duration)\n",
    "    pca2 = np.log1p(trip_duration) - np.log1p(trip_distance)\n",
    "    return pca1, pca2\n",
    "\n",
    "def predict_fare(trip_distance, trip_duration, tip_amount, is_holiday, \n",
    "                 pickup_time_of_day, pickup_season, passenger_count_category, \n",
    "                 pickup_day_type, pickup_location, dropoff_location):\n",
    "    # Generalize zones into categories\n",
    "    general_locations = {\n",
    "        \"downtown\": [\"Midtown Center\", \"Midtown East\", \"Lower Manhattan\"],\n",
    "        \"suburbs\": [\"Manhattan Valley\", \"East Harlem South\", \"Upper West Side\", \"Upper East Side\"],\n",
    "        \"airport\": [\"JFK Airport\", \"LaGuardia Airport\"]\n",
    "    }\n",
    "    \n",
    "    # Map general locations to zones (example mapping)\n",
    "    if pickup_location in general_locations[\"downtown\"]:\n",
    "        puzone = \"Midtown Center\"\n",
    "    elif pickup_location in general_locations[\"airport\"]:\n",
    "        puzone = \"JFK Airport\"\n",
    "    else:\n",
    "        puzone = \"Manhattan Valley\"\n",
    "    \n",
    "    if dropoff_location in general_locations[\"downtown\"]:\n",
    "        dozone = \"Midtown Center\"\n",
    "    elif dropoff_location in general_locations[\"airport\"]:\n",
    "        dozone = \"JFK Airport\"\n",
    "    else:\n",
    "        dozone = \"Manhattan Valley\"\n",
    "    \n",
    "    # Calculate PCA values\n",
    "    pca1, pca2 = calculate_pca_values(trip_distance, trip_duration)\n",
    "    \n",
    "    # Prepare the input data as a DataFrame\n",
    "    input_data = pd.DataFrame({\n",
    "        'trip_distance': [trip_distance],\n",
    "        'trip_duration': [trip_duration],\n",
    "        'tip_amount': [tip_amount],\n",
    "        'PCA1': [pca1],\n",
    "        'PCA2': [pca2],\n",
    "        'is_holiday': [is_holiday],\n",
    "        'pickup_time_of_day': [pickup_time_of_day],\n",
    "        'pickup_season': [pickup_season],\n",
    "        'passenger_count_category': [passenger_count_category],\n",
    "        'pickup_day_type': [pickup_day_type],\n",
    "        'PUzone': [puzone],\n",
    "        'PUborough': [\"Manhattan\"],  # Assuming single borough for simplicity\n",
    "        'DOzone': [dozone],\n",
    "        'DOborough': [\"Manhattan\"]  # Assuming single borough for simplicity\n",
    "    })\n",
    "    \n",
    "    # Encode the input data\n",
    "    input_encoded = encoder.transform(input_data)\n",
    "    \n",
    "    # Apply polynomial transformations\n",
    "    input_poly = poly.transform(input_encoded)\n",
    "    \n",
    "    # Predict the fare\n",
    "    predicted_fare = xgb_model.predict(input_poly)\n",
    "    \n",
    "    # Ensure the predicted fare is non-negative\n",
    "    predicted_fare = max(predicted_fare[0], 0)\n",
    "    \n",
    "    return predicted_fare\n",
    "\n",
    "# Example usage\n",
    "trip_distance = float(input(\"Enter trip distance (Miles): \"))\n",
    "trip_duration = float(input(\"Enter trip duration (minutes): \"))\n",
    "tip_amount = float(input(\"Enter tip amount: \"))\n",
    "is_holiday = int(input(\"Is it a holiday? (1 for Yes, 0 for No): \"))\n",
    "pickup_time_of_day = input(\"Enter pickup time of day (morning/afternoon/evening/night): \")\n",
    "pickup_season = input(\"Enter pickup season (winter/spring/summer/autumn): \")\n",
    "passenger_count_category = input(\"Enter passenger count category (low/medium/high): \")\n",
    "pickup_day_type = input(\"Enter pickup day type (weekday/weekend): \")\n",
    "pickup_location = input(\"Enter pickup location (downtown/suburbs/airport): \")\n",
    "dropoff_location = input(\"Enter drop-off location (downtown/suburbs/airport): \")\n",
    "\n",
    "fare = predict_fare(trip_distance, trip_duration, tip_amount, is_holiday, \n",
    "                    pickup_time_of_day, pickup_season, passenger_count_category, \n",
    "                    pickup_day_type, pickup_location, dropoff_location)\n",
    "print(f\"Predicted Fare: {fare}\")\n"
   ]
  },
  {
   "cell_type": "markdown",
   "id": "75a3878d",
   "metadata": {},
   "source": [
    "## Integration Tests"
   ]
  },
  {
   "cell_type": "markdown",
   "id": "976e0f12",
   "metadata": {},
   "source": [
    "We can select from our dataset 2 or 3 actual cases and see how the model performs compared to them "
   ]
  },
  {
   "cell_type": "code",
   "execution_count": 14,
   "id": "41a42949",
   "metadata": {},
   "outputs": [
    {
     "name": "stdout",
     "output_type": "stream",
     "text": [
      "Predicted fare: 71.61669921875\n",
      "Predicted fare: 60.9279670715332\n"
     ]
    }
   ],
   "source": [
    "# Integration test function\n",
    "def integration_test():\n",
    "    test_cases = [\n",
    "        (10, 10, 5, 1, \"morning\", \"winter\", \"low\", \"weekday\", \"downtown\", \"suburbs\"),\n",
    "        (5, 15, 2, 0, \"afternoon\", \"spring\", \"medium\", \"weekend\", \"airport\", \"downtown\")\n",
    "    ]\n",
    "    \n",
    "    for trip_distance, trip_duration, tip_amount, is_holiday, pickup_time_of_day, pickup_season, passenger_count_category, pickup_day_type, pickup_location, dropoff_location in test_cases:\n",
    "        fare = predict_fare(trip_distance, trip_duration, tip_amount, is_holiday, \n",
    "                            pickup_time_of_day, pickup_season, passenger_count_category, \n",
    "                            pickup_day_type, pickup_location, dropoff_location)\n",
    "        print(f\"Predicted fare: {fare}\")\n",
    "        \n",
    "integration_test()\n"
   ]
  },
  {
   "cell_type": "code",
   "execution_count": 12,
   "id": "00f652ed",
   "metadata": {},
   "outputs": [
    {
     "name": "stderr",
     "output_type": "stream",
     "text": [
      "E\n",
      "======================================================================\n",
      "ERROR: /Users/md/Library/Jupyter/runtime/kernel-48acf81d-5213-4318-a5c4-adebd47e3291 (unittest.loader._FailedTest)\n",
      "----------------------------------------------------------------------\n",
      "AttributeError: module '__main__' has no attribute '/Users/md/Library/Jupyter/runtime/kernel-48acf81d-5213-4318-a5c4-adebd47e3291'\n",
      "\n",
      "----------------------------------------------------------------------\n",
      "Ran 1 test in 0.001s\n",
      "\n",
      "FAILED (errors=1)\n"
     ]
    },
    {
     "ename": "SystemExit",
     "evalue": "True",
     "output_type": "error",
     "traceback": [
      "An exception has occurred, use %tb to see the full traceback.\n",
      "\u001b[0;31mSystemExit\u001b[0m\u001b[0;31m:\u001b[0m True\n"
     ]
    },
    {
     "name": "stderr",
     "output_type": "stream",
     "text": [
      "/Users/md/opt/anaconda3/lib/python3.9/site-packages/IPython/core/interactiveshell.py:3452: UserWarning: To exit: use 'exit', 'quit', or Ctrl-D.\n",
      "  warn(\"To exit: use 'exit', 'quit', or Ctrl-D.\", stacklevel=1)\n"
     ]
    }
   ],
   "source": [
    "import unittest\n",
    "\n",
    "class TestFarePrediction(unittest.TestCase):\n",
    "    def setUp(self):\n",
    "        # Load the model and transformers\n",
    "        self.xgb_model = joblib.load('xgb_model_polynomial.pkl')\n",
    "        self.encoder = joblib.load('encoder.pkl')\n",
    "        self.poly = joblib.load('poly.pkl')\n",
    "    \n",
    "    def test_pca_values(self):\n",
    "        pca1, pca2 = calculate_pca_values(10, 20)\n",
    "        self.assertAlmostEqual(pca1, np.log1p(10) - np.log1p(20), places=5)\n",
    "        self.assertAlmostEqual(pca2, np.log1p(20) - np.log1p(10), places=5)\n",
    "    \n",
    "    def test_predict_fare(self):\n",
    "        # Define some example input values\n",
    "        trip_distance = 10\n",
    "        trip_duration = 20\n",
    "        tip_amount = 5\n",
    "        is_holiday = 1\n",
    "        pickup_time_of_day = \"morning\"\n",
    "        pickup_season = \"winter\"\n",
    "        passenger_count_category = \"low\"\n",
    "        pickup_day_type = \"weekday\"\n",
    "        pickup_location = \"downtown\"\n",
    "        dropoff_location = \"suburbs\"\n",
    "        \n",
    "        # Predict the fare\n",
    "        fare = predict_fare(trip_distance, trip_duration, tip_amount, is_holiday, \n",
    "                            pickup_time_of_day, pickup_season, passenger_count_category, \n",
    "                            pickup_day_type, pickup_location, dropoff_location)\n",
    "        \n",
    "        # Ensure the predicted fare is non-negative\n",
    "        self.assertGreaterEqual(fare, 0)\n",
    "\n",
    "if __name__ == '__main__':\n",
    "    unittest.main()\n"
   ]
  },
  {
   "cell_type": "code",
   "execution_count": null,
   "id": "8acf0d86",
   "metadata": {},
   "outputs": [],
   "source": [
    "# Example known inputs\n",
    "test_inputs = [\n",
    "    {\"trip_distance\": 10, \"trip_duration\": 20, \"tip_amount\": 5, \"is_holiday\": 1, \n",
    "     \"pickup_time_of_day\": \"morning\", \"pickup_season\": \"winter\", \"passenger_count_category\": \"low\", \n",
    "     \"pickup_day_type\": \"weekday\", \"pickup_location\": \"downtown\", \"dropoff_location\": \"suburbs\"},\n",
    "    {\"trip_distance\": 15, \"trip_duration\": 25, \"tip_amount\": 2, \"is_holiday\": 0, \n",
    "     \"pickup_time_of_day\": \"afternoon\", \"pickup_season\": \"summer\", \"passenger_count_category\": \"medium\", \n",
    "     \"pickup_day_type\": \"weekend\", \"pickup_location\": \"airport\", \"dropoff_location\": \"downtown\"}\n",
    "]\n",
    "\n",
    "for test_input in test_inputs:\n",
    "    fare = predict_fare(**test_input)\n",
    "    print(f\"Predicted Fare for input {test_input}: {fare}\")\n"
   ]
  },
  {
   "cell_type": "code",
   "execution_count": null,
   "id": "3a2895cf",
   "metadata": {},
   "outputs": [],
   "source": [
    "from sklearn.model_selection import cross_val_score\n",
    "\n",
    "# Assuming X_train_poly and y_train are already defined and processed\n",
    "scores = cross_val_score(xgb_model, X_train_poly, y_train, cv=5, scoring='neg_mean_absolute_error')\n",
    "print(\"Cross-validation MAE scores:\", -scores)\n",
    "print(\"Mean Cross-validation MAE:\", -scores.mean())\n"
   ]
  },
  {
   "cell_type": "code",
   "execution_count": null,
   "id": "d33a6226",
   "metadata": {},
   "outputs": [],
   "source": [
    "def integration_test():\n",
    "    test_cases = [\n",
    "        (10, 20, 5, 1, \"morning\", \"winter\", \"low\", \"weekday\", \"downtown\", \"suburbs\"),\n",
    "        (5, 15, 2, 0, \"afternoon\", \"spring\", \"medium\", \"weekend\", \"airport\", \"downtown\")\n",
    "    ]\n",
    "    \n",
    "    for trip_distance, trip_duration, tip_amount, is_holiday, pickup_time_of_day, pickup_season, passenger_count_category, pickup_day_type, pickup_location, dropoff_location in test_cases:\n",
    "        fare = predict_fare(trip_distance, trip_duration, tip_amount, is_holiday, \n",
    "                            pickup_time_of_day, pickup_season, passenger_count_category, \n",
    "                            pickup_day_type, pickup_location, dropoff_location)\n",
    "        print(f\"Predicted fare: {fare}\")\n",
    "        \n",
    "integration_test()\n"
   ]
  },
  {
   "cell_type": "code",
   "execution_count": null,
   "id": "d4157e15",
   "metadata": {},
   "outputs": [],
   "source": [
    "python -m unittest your_test_script.py\n"
   ]
  }
 ],
 "metadata": {
  "kernelspec": {
   "display_name": "Python 3 (ipykernel)",
   "language": "python",
   "name": "python3"
  },
  "language_info": {
   "codemirror_mode": {
    "name": "ipython",
    "version": 3
   },
   "file_extension": ".py",
   "mimetype": "text/x-python",
   "name": "python",
   "nbconvert_exporter": "python",
   "pygments_lexer": "ipython3",
   "version": "3.9.7"
  }
 },
 "nbformat": 4,
 "nbformat_minor": 5
}

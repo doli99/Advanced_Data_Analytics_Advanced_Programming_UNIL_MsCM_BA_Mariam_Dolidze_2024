{
 "cells": [
  {
   "cell_type": "markdown",
   "id": "6894a9b0",
   "metadata": {},
   "source": [
    "# Notebook Overview\n",
    "\n",
    "In this notebook we will use NYC TLC official website to acquire dataset for yello taxi trips in NYC for year 2023 in parquet format and create a combined dataset for further analysis\n",
    "\n",
    "The URL used : https://www.nyc.gov/site/tlc/about/tlc-trip-record-data.page"
   ]
  },
  {
   "cell_type": "markdown",
   "id": "fe6004af",
   "metadata": {},
   "source": [
    "### Importing Necesssary Libraries"
   ]
  },
  {
   "cell_type": "code",
   "execution_count": 2,
   "id": "cfc9a69c",
   "metadata": {},
   "outputs": [],
   "source": [
    "# Import necessary libraries\n",
    "import pandas as pd\n",
    "import os\n",
    "import urllib.request"
   ]
  },
  {
   "cell_type": "markdown",
   "id": "628233a1",
   "metadata": {},
   "source": [
    "## Fetching Data From NYC Official Website"
   ]
  },
  {
   "cell_type": "code",
   "execution_count": 3,
   "id": "900110a4",
   "metadata": {},
   "outputs": [
    {
     "name": "stdout",
     "output_type": "stream",
     "text": [
      "Downloaded /Users/md/Desktop/python_project/parquet_files/2023/yellow_tripdata_2023-01.parquet\n",
      "Downloaded /Users/md/Desktop/python_project/parquet_files/2023/yellow_tripdata_2023-02.parquet\n",
      "Downloaded /Users/md/Desktop/python_project/parquet_files/2023/yellow_tripdata_2023-03.parquet\n",
      "Downloaded /Users/md/Desktop/python_project/parquet_files/2023/yellow_tripdata_2023-04.parquet\n",
      "Downloaded /Users/md/Desktop/python_project/parquet_files/2023/yellow_tripdata_2023-05.parquet\n",
      "Downloaded /Users/md/Desktop/python_project/parquet_files/2023/yellow_tripdata_2023-06.parquet\n",
      "Downloaded /Users/md/Desktop/python_project/parquet_files/2023/yellow_tripdata_2023-07.parquet\n",
      "Downloaded /Users/md/Desktop/python_project/parquet_files/2023/yellow_tripdata_2023-08.parquet\n",
      "Downloaded /Users/md/Desktop/python_project/parquet_files/2023/yellow_tripdata_2023-09.parquet\n",
      "Downloaded /Users/md/Desktop/python_project/parquet_files/2023/yellow_tripdata_2023-10.parquet\n",
      "Downloaded /Users/md/Desktop/python_project/parquet_files/2023/yellow_tripdata_2023-11.parquet\n",
      "Downloaded /Users/md/Desktop/python_project/parquet_files/2023/yellow_tripdata_2023-12.parquet\n",
      "Loaded data from yellow_tripdata_2023-01.parquet with shape (3066766, 19)\n",
      "Loaded data from yellow_tripdata_2023-02.parquet with shape (2913955, 19)\n",
      "Loaded data from yellow_tripdata_2023-03.parquet with shape (3403766, 19)\n",
      "Loaded data from yellow_tripdata_2023-04.parquet with shape (3288250, 19)\n",
      "Loaded data from yellow_tripdata_2023-05.parquet with shape (3513649, 19)\n",
      "Loaded data from yellow_tripdata_2023-06.parquet with shape (3307234, 19)\n",
      "Loaded data from yellow_tripdata_2023-07.parquet with shape (2907108, 19)\n",
      "Loaded data from yellow_tripdata_2023-08.parquet with shape (2824209, 19)\n",
      "Loaded data from yellow_tripdata_2023-09.parquet with shape (2846722, 19)\n",
      "Loaded data from yellow_tripdata_2023-10.parquet with shape (3522285, 19)\n",
      "Loaded data from yellow_tripdata_2023-11.parquet with shape (3339715, 19)\n",
      "Loaded data from yellow_tripdata_2023-12.parquet with shape (3376567, 19)\n"
     ]
    }
   ],
   "source": [
    "\n",
    "\n",
    "# Configuration\n",
    "data_url = \"https://www.nyc.gov/site/tlc/about/tlc-trip-record-data.page\"\n",
    "file_path = \"/Users/md/Desktop/python_project/parquet_files/2023\"  # Update this path\n",
    "\n",
    "# Function to download data\n",
    "def download_data(url, filename):\n",
    "    \"\"\"Download file from a specified URL to a local path.\"\"\"\n",
    "    if not os.path.exists(filename):\n",
    "        urllib.request.urlretrieve(url, filename)\n",
    "        print(f\"Downloaded {filename}\")\n",
    "    else:\n",
    "        print(f\"{filename} already exists\")\n",
    "\n",
    "# List of file names and their URLs\n",
    "files_to_download = {\n",
    "    \"yellow_tripdata_2023-01.parquet\": \"https://d37ci6vzurychx.cloudfront.net/trip-data/yellow_tripdata_2023-01.parquet\",\n",
    "     \"yellow_tripdata_2023-02.parquet\": \"https://d37ci6vzurychx.cloudfront.net/trip-data/yellow_tripdata_2023-02.parquet\",\n",
    "    \"yellow_tripdata_2023-03.parquet\":\"https://d37ci6vzurychx.cloudfront.net/trip-data/yellow_tripdata_2023-03.parquet\",\n",
    "    \"yellow_tripdata_2023-04.parquet\":\"https://d37ci6vzurychx.cloudfront.net/trip-data/yellow_tripdata_2023-04.parquet\",\n",
    "    \"yellow_tripdata_2023-05.parquet\":\"https://d37ci6vzurychx.cloudfront.net/trip-data/yellow_tripdata_2023-05.parquet\",\n",
    "    \"yellow_tripdata_2023-06.parquet\":\"https://d37ci6vzurychx.cloudfront.net/trip-data/yellow_tripdata_2023-06.parquet\",\n",
    "    \"yellow_tripdata_2023-07.parquet\":\"https://d37ci6vzurychx.cloudfront.net/trip-data/yellow_tripdata_2023-07.parquet\",\n",
    "    \"yellow_tripdata_2023-08.parquet\":\"https://d37ci6vzurychx.cloudfront.net/trip-data/yellow_tripdata_2023-08.parquet\",\n",
    "    \"yellow_tripdata_2023-09.parquet\":\"https://d37ci6vzurychx.cloudfront.net/trip-data/yellow_tripdata_2023-09.parquet\",\n",
    "    \"yellow_tripdata_2023-10.parquet\":\"https://d37ci6vzurychx.cloudfront.net/trip-data/yellow_tripdata_2023-10.parquet\",\n",
    "    \"yellow_tripdata_2023-11.parquet\":\"https://d37ci6vzurychx.cloudfront.net/trip-data/yellow_tripdata_2023-11.parquet\",\n",
    "    \"yellow_tripdata_2023-12.parquet\":\"https://d37ci6vzurychx.cloudfront.net/trip-data/yellow_tripdata_2023-12.parquet\"\n",
    "    \n",
    "}\n",
    "\n",
    "# Download the files\n",
    "for filename, url in files_to_download.items():\n",
    "    download_data(url, os.path.join(file_path, filename))\n",
    "\n",
    "# Loading the data\n",
    "df_list = []\n",
    "for filename in files_to_download.keys():\n",
    "    full_path = os.path.join(file_path, filename)\n",
    "    df = pd.read_parquet(full_path)\n",
    "    df_list.append(df)\n",
    "    print(f\"Loaded data from {filename} with shape {df.shape}\")"
   ]
  },
  {
   "cell_type": "markdown",
   "id": "ad241ed6",
   "metadata": {},
   "source": [
    "## Creating One Combined Parquet For Data Preparation"
   ]
  },
  {
   "cell_type": "code",
   "execution_count": 4,
   "id": "0771d74e",
   "metadata": {},
   "outputs": [
    {
     "name": "stdout",
     "output_type": "stream",
     "text": [
      "Combined DataFrame shape: (38310226, 20)\n"
     ]
    }
   ],
   "source": [
    "# Combine all DataFrames into one\n",
    "combined_df = pd.concat(df_list, ignore_index=True)\n",
    "print(\"Combined DataFrame shape:\", combined_df.shape)\n",
    "\n"
   ]
  },
  {
   "cell_type": "code",
   "execution_count": 5,
   "id": "8eff5d17",
   "metadata": {},
   "outputs": [
    {
     "name": "stdout",
     "output_type": "stream",
     "text": [
      "   VendorID tpep_pickup_datetime tpep_dropoff_datetime  passenger_count  \\\n",
      "0         2  2023-01-01 00:32:10   2023-01-01 00:40:36              1.0   \n",
      "1         2  2023-01-01 00:55:08   2023-01-01 01:01:27              1.0   \n",
      "2         2  2023-01-01 00:25:04   2023-01-01 00:37:49              1.0   \n",
      "3         1  2023-01-01 00:03:48   2023-01-01 00:13:25              0.0   \n",
      "4         2  2023-01-01 00:10:29   2023-01-01 00:21:19              1.0   \n",
      "\n",
      "   trip_distance  RatecodeID store_and_fwd_flag  PULocationID  DOLocationID  \\\n",
      "0           0.97         1.0                  N           161           141   \n",
      "1           1.10         1.0                  N            43           237   \n",
      "2           2.51         1.0                  N            48           238   \n",
      "3           1.90         1.0                  N           138             7   \n",
      "4           1.43         1.0                  N           107            79   \n",
      "\n",
      "   payment_type  fare_amount  extra  mta_tax  tip_amount  tolls_amount  \\\n",
      "0             2          9.3   1.00      0.5        0.00           0.0   \n",
      "1             1          7.9   1.00      0.5        4.00           0.0   \n",
      "2             1         14.9   1.00      0.5       15.00           0.0   \n",
      "3             1         12.1   7.25      0.5        0.00           0.0   \n",
      "4             1         11.4   1.00      0.5        3.28           0.0   \n",
      "\n",
      "   improvement_surcharge  total_amount  congestion_surcharge  airport_fee  \\\n",
      "0                    1.0         14.30                   2.5         0.00   \n",
      "1                    1.0         16.90                   2.5         0.00   \n",
      "2                    1.0         34.90                   2.5         0.00   \n",
      "3                    1.0         20.85                   0.0         1.25   \n",
      "4                    1.0         19.68                   2.5         0.00   \n",
      "\n",
      "   Airport_fee  \n",
      "0          NaN  \n",
      "1          NaN  \n",
      "2          NaN  \n",
      "3          NaN  \n",
      "4          NaN  \n",
      "<class 'pandas.core.frame.DataFrame'>\n",
      "RangeIndex: 38310226 entries, 0 to 38310225\n",
      "Data columns (total 20 columns):\n",
      " #   Column                 Dtype         \n",
      "---  ------                 -----         \n",
      " 0   VendorID               int64         \n",
      " 1   tpep_pickup_datetime   datetime64[us]\n",
      " 2   tpep_dropoff_datetime  datetime64[us]\n",
      " 3   passenger_count        float64       \n",
      " 4   trip_distance          float64       \n",
      " 5   RatecodeID             float64       \n",
      " 6   store_and_fwd_flag     object        \n",
      " 7   PULocationID           int64         \n",
      " 8   DOLocationID           int64         \n",
      " 9   payment_type           int64         \n",
      " 10  fare_amount            float64       \n",
      " 11  extra                  float64       \n",
      " 12  mta_tax                float64       \n",
      " 13  tip_amount             float64       \n",
      " 14  tolls_amount           float64       \n",
      " 15  improvement_surcharge  float64       \n",
      " 16  total_amount           float64       \n",
      " 17  congestion_surcharge   float64       \n",
      " 18  airport_fee            float64       \n",
      " 19  Airport_fee            float64       \n",
      "dtypes: datetime64[us](2), float64(13), int64(4), object(1)\n",
      "memory usage: 5.7+ GB\n",
      "None\n",
      "           VendorID        tpep_pickup_datetime       tpep_dropoff_datetime  \\\n",
      "count  3.831023e+07                    38310226                    38310226   \n",
      "mean   1.738894e+00  2023-07-02 22:47:58.448232  2023-07-02 23:04:41.459181   \n",
      "min    1.000000e+00         2001-01-01 00:06:49         1970-01-20 10:16:32   \n",
      "25%    1.000000e+00         2023-04-02 18:25:17  2023-04-02 18:43:06.250000   \n",
      "50%    2.000000e+00         2023-06-27 18:43:55         2023-06-27 18:59:09   \n",
      "75%    2.000000e+00         2023-10-06 21:55:14         2023-10-06 22:11:37   \n",
      "max    6.000000e+00         2024-01-03 19:42:57         2024-01-03 20:15:55   \n",
      "std    4.443591e-01                         NaN                         NaN   \n",
      "\n",
      "       passenger_count  trip_distance    RatecodeID  PULocationID  \\\n",
      "count     3.700087e+07   3.831023e+07  3.700087e+07  3.831023e+07   \n",
      "mean      1.370426e+00   4.088946e+00  1.641906e+00  1.651755e+02   \n",
      "min       0.000000e+00   0.000000e+00  1.000000e+00  1.000000e+00   \n",
      "25%       1.000000e+00   1.040000e+00  1.000000e+00  1.320000e+02   \n",
      "50%       1.000000e+00   1.790000e+00  1.000000e+00  1.620000e+02   \n",
      "75%       1.000000e+00   3.400000e+00  1.000000e+00  2.340000e+02   \n",
      "max       9.000000e+00   3.457294e+05  9.900000e+01  2.650000e+02   \n",
      "std       8.925924e-01   2.412509e+02  7.427351e+00  6.399765e+01   \n",
      "\n",
      "       DOLocationID  payment_type   fare_amount         extra       mta_tax  \\\n",
      "count  3.831023e+07  3.831023e+07  3.831023e+07  3.831023e+07  3.831023e+07   \n",
      "mean   1.639500e+02  1.184585e+00  1.952225e+01  1.556057e+00  4.856167e-01   \n",
      "min    1.000000e+00  0.000000e+00 -1.087300e+03 -3.917000e+01 -5.000000e-01   \n",
      "25%    1.130000e+02  1.000000e+00  9.300000e+00  0.000000e+00  5.000000e-01   \n",
      "50%    1.620000e+02  1.000000e+00  1.350000e+01  1.000000e+00  5.000000e-01   \n",
      "75%    2.340000e+02  1.000000e+00  2.190000e+01  2.500000e+00  5.000000e-01   \n",
      "max    2.650000e+02  5.000000e+00  3.869836e+05  1.000250e+04  5.316000e+01   \n",
      "std    6.985543e+01  5.562740e-01  7.572729e+01  2.450399e+00  1.095629e-01   \n",
      "\n",
      "         tip_amount  tolls_amount  improvement_surcharge  total_amount  \\\n",
      "count  3.831023e+07  3.831023e+07           3.831023e+07  3.831023e+07   \n",
      "mean   3.522265e+00  5.897361e-01           9.794487e-01  2.846194e+01   \n",
      "min   -4.110000e+02 -9.130000e+01          -1.000000e+00 -1.094050e+03   \n",
      "25%    1.000000e+00  0.000000e+00           1.000000e+00  1.595000e+01   \n",
      "50%    2.800000e+00  0.000000e+00           1.000000e+00  2.100000e+01   \n",
      "75%    4.410000e+00  0.000000e+00           1.000000e+00  3.072000e+01   \n",
      "max    4.174000e+03  6.655600e+02           1.000000e+00  3.869876e+05   \n",
      "std    4.147060e+00  2.200999e+00           1.991462e-01  7.712821e+01   \n",
      "\n",
      "       congestion_surcharge   airport_fee   Airport_fee  \n",
      "count          3.700087e+07  2.995023e+06  3.400585e+07  \n",
      "mean           2.264610e+00  1.074086e-01  1.429429e-01  \n",
      "min           -2.500000e+00 -1.250000e+00 -1.750000e+00  \n",
      "25%            2.500000e+00  0.000000e+00  0.000000e+00  \n",
      "50%            2.500000e+00  0.000000e+00  0.000000e+00  \n",
      "75%            2.500000e+00  0.000000e+00  0.000000e+00  \n",
      "max            2.750000e+00  1.250000e+00  1.750000e+00  \n",
      "std            7.971481e-01  3.556511e-01  4.772075e-01  \n"
     ]
    }
   ],
   "source": [
    "# Initial Data Check\n",
    "print(combined_df.head())\n",
    "print(combined_df.info())\n",
    "print(combined_df.describe())"
   ]
  },
  {
   "cell_type": "code",
   "execution_count": 6,
   "id": "c411f8af",
   "metadata": {},
   "outputs": [
    {
     "name": "stdout",
     "output_type": "stream",
     "text": [
      "Saved combined data to disk.\n",
      "Data acquisition and initial loading completed.\n"
     ]
    }
   ],
   "source": [
    "\n",
    "# Save the combined DataFrame to a new Parquet file\n",
    "combined_df.to_parquet(os.path.join(file_path, \"combined_yellow_tripdata_2023.parquet\"))\n",
    "print(\"Saved combined data to disk.\")\n",
    "\n",
    "# Conclusion\n",
    "print(\"Data acquisition and initial loading completed.\")"
   ]
  }
 ],
 "metadata": {
  "kernelspec": {
   "display_name": "Python 3 (ipykernel)",
   "language": "python",
   "name": "python3"
  },
  "language_info": {
   "codemirror_mode": {
    "name": "ipython",
    "version": 3
   },
   "file_extension": ".py",
   "mimetype": "text/x-python",
   "name": "python",
   "nbconvert_exporter": "python",
   "pygments_lexer": "ipython3",
   "version": "3.9.7"
  }
 },
 "nbformat": 4,
 "nbformat_minor": 5
}

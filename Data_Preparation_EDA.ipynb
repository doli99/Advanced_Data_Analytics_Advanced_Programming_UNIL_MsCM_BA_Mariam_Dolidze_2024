{
 "cells": [
  {
   "cell_type": "code",
   "execution_count": 1,
   "id": "59afb81c",
   "metadata": {},
   "outputs": [
    {
     "name": "stdout",
     "output_type": "stream",
     "text": [
      "Requirement already satisfied: pandas in /Users/md/opt/anaconda3/lib/python3.9/site-packages (1.3.4)\n",
      "Requirement already satisfied: pyarrow in /Users/md/opt/anaconda3/lib/python3.9/site-packages (8.0.0)\n",
      "Requirement already satisfied: matplotlib in /Users/md/opt/anaconda3/lib/python3.9/site-packages (3.4.3)\n",
      "Requirement already satisfied: seaborn in /Users/md/opt/anaconda3/lib/python3.9/site-packages (0.11.2)\n",
      "Requirement already satisfied: python-dateutil>=2.7.3 in /Users/md/opt/anaconda3/lib/python3.9/site-packages (from pandas) (2.8.2)\n",
      "Requirement already satisfied: pytz>=2017.3 in /Users/md/opt/anaconda3/lib/python3.9/site-packages (from pandas) (2021.3)\n",
      "Requirement already satisfied: numpy>=1.17.3 in /Users/md/opt/anaconda3/lib/python3.9/site-packages (from pandas) (1.20.3)\n",
      "Requirement already satisfied: pyparsing>=2.2.1 in /Users/md/opt/anaconda3/lib/python3.9/site-packages (from matplotlib) (3.0.4)\n",
      "Requirement already satisfied: kiwisolver>=1.0.1 in /Users/md/opt/anaconda3/lib/python3.9/site-packages (from matplotlib) (1.3.1)\n",
      "Requirement already satisfied: cycler>=0.10 in /Users/md/opt/anaconda3/lib/python3.9/site-packages (from matplotlib) (0.10.0)\n",
      "Requirement already satisfied: pillow>=6.2.0 in /Users/md/opt/anaconda3/lib/python3.9/site-packages (from matplotlib) (8.4.0)\n",
      "Requirement already satisfied: scipy>=1.0 in /Users/md/opt/anaconda3/lib/python3.9/site-packages (from seaborn) (1.7.1)\n",
      "Requirement already satisfied: six in /Users/md/opt/anaconda3/lib/python3.9/site-packages (from cycler>=0.10->matplotlib) (1.16.0)\n",
      "Note: you may need to restart the kernel to use updated packages.\n"
     ]
    }
   ],
   "source": [
    "pip install pandas pyarrow matplotlib seaborn\n"
   ]
  },
  {
   "cell_type": "code",
   "execution_count": 2,
   "id": "205d396b",
   "metadata": {},
   "outputs": [],
   "source": [
    "import pandas as pd\n",
    "import glob\n",
    "import matplotlib.pyplot as plt\n",
    "import matplotlib.dates as mdates\n",
    "import numpy as np\n",
    "import seaborn as sns\n",
    "pd.set_option('display.float_format', lambda x: '%.2f' % x)\n",
    "from pandas.tseries.holiday import USFederalHolidayCalendar as calander"
   ]
  },
  {
   "cell_type": "code",
   "execution_count": 3,
   "id": "4e69245f",
   "metadata": {},
   "outputs": [],
   "source": [
    "\n",
    "# Path to the directory where all your Parquet files are stored\n",
    "path = '/Users/md/Desktop/python_project/parquet_files'  # Update the path accordingly\n",
    "\n",
    "# Dictionary to store row counts from each file\n",
    "row_counts = {}\n",
    "\n",
    "# Read each Parquet file and count the rows\n",
    "all_files = glob.glob(path + \"/*.parquet\")\n",
    "dataframes = []\n",
    "for file in all_files:\n",
    "    temp_df = pd.read_parquet(file)\n",
    "    row_counts[file] = len(temp_df)\n",
    "    dataframes.append(temp_df)\n",
    "\n",
    "# Concatenate all dataframes into a single DataFrame\n",
    "df = pd.concat(dataframes)\n"
   ]
  },
  {
   "cell_type": "code",
   "execution_count": 4,
   "id": "671d1db3",
   "metadata": {},
   "outputs": [
    {
     "name": "stdout",
     "output_type": "stream",
     "text": [
      "Total rows in DataFrame: 38310226\n",
      "Expected total rows from files: 38310226\n",
      "Row count match: True\n"
     ]
    }
   ],
   "source": [
    "# Total row count from the DataFrame\n",
    "total_rows_df = len(df)\n",
    "\n",
    "# Total row count from individual files\n",
    "total_rows_files = sum(row_counts.values())\n",
    "\n",
    "# Compare the counts\n",
    "print(f\"Total rows in DataFrame: {total_rows_df}\")\n",
    "print(f\"Expected total rows from files: {total_rows_files}\")\n",
    "print(f\"Row count match: {total_rows_df == total_rows_files}\")\n"
   ]
  },
  {
   "cell_type": "code",
   "execution_count": 5,
   "id": "7937451f",
   "metadata": {},
   "outputs": [
    {
     "name": "stdout",
     "output_type": "stream",
     "text": [
      "/Users/md/Desktop/python_project/parquet_files/yellow_tripdata_2023-06.parquet: 3307234 rows\n",
      "/Users/md/Desktop/python_project/parquet_files/yellow_tripdata_2023-07.parquet: 2907108 rows\n",
      "/Users/md/Desktop/python_project/parquet_files/yellow_tripdata_2023-05.parquet: 3513649 rows\n",
      "/Users/md/Desktop/python_project/parquet_files/yellow_tripdata_2023-04.parquet: 3288250 rows\n",
      "/Users/md/Desktop/python_project/parquet_files/yellow_tripdata_2023-08.parquet: 2824209 rows\n",
      "/Users/md/Desktop/python_project/parquet_files/yellow_tripdata_2023-11.parquet: 3339715 rows\n",
      "/Users/md/Desktop/python_project/parquet_files/yellow_tripdata_2023-01.parquet: 3066766 rows\n",
      "/Users/md/Desktop/python_project/parquet_files/yellow_tripdata_2023-10.parquet: 3522285 rows\n",
      "/Users/md/Desktop/python_project/parquet_files/yellow_tripdata_2023-09.parquet: 2846722 rows\n",
      "/Users/md/Desktop/python_project/parquet_files/yellow_tripdata_2023-12.parquet: 3376567 rows\n",
      "/Users/md/Desktop/python_project/parquet_files/yellow_tripdata_2023-02.parquet: 2913955 rows\n",
      "/Users/md/Desktop/python_project/parquet_files/yellow_tripdata_2023-03.parquet: 3403766 rows\n"
     ]
    }
   ],
   "source": [
    "# Printing row counts for each file\n",
    "for file, count in row_counts.items():\n",
    "    print(f\"{file}: {count} rows\")\n"
   ]
  },
  {
   "cell_type": "code",
   "execution_count": 6,
   "id": "955e84af",
   "metadata": {},
   "outputs": [],
   "source": [
    "# Trip data provided\n",
    "trip_data = {\n",
    "    '2023-06': 3307234,\n",
    "    '2023-07': 2907108,\n",
    "    '2023-05': 3513649,\n",
    "    '2023-04': 3288250,\n",
    "    '2023-08': 2824209,\n",
    "    '2023-11': 3339715,\n",
    "    '2023-01': 3066766,\n",
    "    '2023-10': 3522285,\n",
    "    '2023-09': 2846722,\n",
    "    '2023-12': 3376567,\n",
    "    '2023-02': 2913955,\n",
    "    '2023-03': 3403766\n",
    "}\n",
    "\n",
    "# Create DataFrame for plotting\n",
    "plot_data = pd.DataFrame(list(trip_data.items()), columns=['Month_Year', 'Trip_Counts'])\n",
    "plot_data['Month_Year'] = pd.to_datetime(plot_data['Month_Year'])\n",
    "plot_data.sort_values('Month_Year', inplace=True)\n",
    "plot_data['Month_Year'] = plot_data['Month_Year'].dt.strftime('%Y-%m')  # Formatting for nicer axis labels\n"
   ]
  },
  {
   "cell_type": "code",
   "execution_count": 7,
   "id": "c9932550",
   "metadata": {},
   "outputs": [
    {
     "data": {
      "image/png": "[encoded data removed]",
      "text/plain": [
       "<Figure size 864x432 with 1 Axes>"
      ]
     },
     "metadata": {
      "needs_background": "light"
     },
     "output_type": "display_data"
    }
   ],
   "source": [
    "plt.figure(figsize=(12, 6))\n",
    "plt.bar(plot_data['Month_Year'], plot_data['Trip_Counts'], color='skyblue')\n",
    "plt.xlabel('Month-Year')\n",
    "plt.ylabel('Number of Trips')\n",
    "plt.title('Number of Trips Recorded Per Month')\n",
    "plt.xticks(rotation=45)\n",
    "plt.tight_layout()\n",
    "plt.show()\n"
   ]
  },
  {
   "cell_type": "markdown",
   "id": "007a436d",
   "metadata": {},
   "source": [
    "Distribution of trip records per month for 2023, we can see that for each month the record number is relatively the same however, we can observe that for March, May, October, November and December record count is a bit higher."
   ]
  },
  {
   "cell_type": "code",
   "execution_count": 8,
   "id": "5619cdb9",
   "metadata": {},
   "outputs": [
    {
     "data": {
      "text/html": [
       "<div>\n",
       "<style scoped>\n",
       "    .dataframe tbody tr th:only-of-type {\n",
       "        vertical-align: middle;\n",
       "    }\n",
       "\n",
       "    .dataframe tbody tr th {\n",
       "        vertical-align: top;\n",
       "    }\n",
       "\n",
       "    .dataframe thead th {\n",
       "        text-align: right;\n",
       "    }\n",
       "</style>\n",
       "<table border=\"1\" class=\"dataframe\">\n",
       "  <thead>\n",
       "    <tr style=\"text-align: right;\">\n",
       "      <th></th>\n",
       "      <th>VendorID</th>\n",
       "      <th>tpep_pickup_datetime</th>\n",
       "      <th>tpep_dropoff_datetime</th>\n",
       "      <th>passenger_count</th>\n",
       "      <th>trip_distance</th>\n",
       "      <th>RatecodeID</th>\n",
       "      <th>store_and_fwd_flag</th>\n",
       "      <th>PULocationID</th>\n",
       "      <th>DOLocationID</th>\n",
       "      <th>payment_type</th>\n",
       "      <th>fare_amount</th>\n",
       "      <th>extra</th>\n",
       "      <th>mta_tax</th>\n",
       "      <th>tip_amount</th>\n",
       "      <th>tolls_amount</th>\n",
       "      <th>improvement_surcharge</th>\n",
       "      <th>total_amount</th>\n",
       "      <th>congestion_surcharge</th>\n",
       "      <th>Airport_fee</th>\n",
       "      <th>airport_fee</th>\n",
       "    </tr>\n",
       "  </thead>\n",
       "  <tbody>\n",
       "    <tr>\n",
       "      <th>0</th>\n",
       "      <td>1</td>\n",
       "      <td>2023-06-01 00:08:48</td>\n",
       "      <td>2023-06-01 00:29:41</td>\n",
       "      <td>1.00</td>\n",
       "      <td>3.40</td>\n",
       "      <td>1.00</td>\n",
       "      <td>N</td>\n",
       "      <td>140</td>\n",
       "      <td>238</td>\n",
       "      <td>1</td>\n",
       "      <td>21.90</td>\n",
       "      <td>3.50</td>\n",
       "      <td>0.50</td>\n",
       "      <td>6.70</td>\n",
       "      <td>0.00</td>\n",
       "      <td>1.00</td>\n",
       "      <td>33.60</td>\n",
       "      <td>2.50</td>\n",
       "      <td>0.00</td>\n",
       "      <td>NaN</td>\n",
       "    </tr>\n",
       "  </tbody>\n",
       "</table>\n",
       "</div>"
      ],
      "text/plain": [
       "   VendorID tpep_pickup_datetime tpep_dropoff_datetime  passenger_count  \\\n",
       "0         1  2023-06-01 00:08:48   2023-06-01 00:29:41             1.00   \n",
       "\n",
       "   trip_distance  RatecodeID store_and_fwd_flag  PULocationID  DOLocationID  \\\n",
       "0           3.40        1.00                  N           140           238   \n",
       "\n",
       "   payment_type  fare_amount  extra  mta_tax  tip_amount  tolls_amount  \\\n",
       "0             1        21.90   3.50     0.50        6.70          0.00   \n",
       "\n",
       "   improvement_surcharge  total_amount  congestion_surcharge  Airport_fee  \\\n",
       "0                   1.00         33.60                  2.50         0.00   \n",
       "\n",
       "   airport_fee  \n",
       "0          NaN  "
      ]
     },
     "execution_count": 8,
     "metadata": {},
     "output_type": "execute_result"
    }
   ],
   "source": [
    "df.head(1)"
   ]
  },
  {
   "cell_type": "code",
   "execution_count": 9,
   "id": "7071e05f",
   "metadata": {},
   "outputs": [
    {
     "data": {
      "image/png": "[encoded data removed]",
      "text/plain": [
       "<Figure size 864x432 with 1 Axes>"
      ]
     },
     "metadata": {
      "needs_background": "light"
     },
     "output_type": "display_data"
    }
   ],
   "source": [
    "\n",
    "# Assuming 'plot_data' is your DataFrame prepared previously\n",
    "plot_data['Month_Year'] = pd.to_datetime(plot_data['Month_Year'])\n",
    "plot_data.sort_values('Month_Year', inplace=True)\n",
    "\n",
    "plt.figure(figsize=(12, 6))\n",
    "plt.bar(plot_data['Month_Year'], plot_data['Trip_Counts'], color='skyblue', label='Monthly Trips')\n",
    "plt.xlabel('Month-Year')\n",
    "plt.ylabel('Number of Trips')\n",
    "plt.title('Number of Trips Recorded Per Month')\n",
    "\n",
    "# Calculate and plot a trendline\n",
    "z = np.polyfit(mdates.date2num(plot_data['Month_Year']), plot_data['Trip_Counts'], 1)\n",
    "p = np.poly1d(z)\n",
    "plt.plot(plot_data['Month_Year'], p(mdates.date2num(plot_data['Month_Year'])), \"r--\", label='Trendline')\n",
    "plt.legend()\n",
    "\n",
    "plt.xticks(rotation=45)\n",
    "plt.tight_layout()\n",
    "plt.show()\n"
   ]
  },
  {
   "cell_type": "markdown",
   "id": "3624bd93",
   "metadata": {},
   "source": [
    "* No Clear Seasonal Trend: The number of trips doesn't show a clear and consistent pattern that rises and falls at regular intervals throughout the year, which is typically indicative of strong seasonality.\n",
    "* Monthly Variations: There are variations in the number of trips per month, but these do not appear to follow a simple seasonal pattern. For example, we do not see a continuous increase or decrease that corresponds with specific seasons.\n",
    "* Mid-Year Dip: There seems to be a dip in the number of trips around July and August. This could be due to various factors such as summer holidays when people might leave the city, or it could be a seasonal variation. However, without data from multiple years, it's difficult to attribute this dip to seasonality with certainty.\n",
    "* End-of-Year Increase: Towards the end of the year, there seems to be an increase in trips, particularly in December. This could be related to the holiday season, which typically sees an increase in travel and activities.\n",
    "* Stability in Other Months: Aside from the mid-year dip and end-of-year increase, the other months seem relatively stable, with no dramatic rises or falls in the number of trips.\n",
    "* Trendline: The red dashed trendline appears relatively flat, indicating that, overall, there isn't a strong increasing or decreasing trend across these months."
   ]
  },
  {
   "cell_type": "markdown",
   "id": "37192836",
   "metadata": {},
   "source": [
    "\n",
    "Your project aims to analyze the NYC yellow taxi trip dataset, specifically from 2021, to develop a predictive model for taxi fares that can be adapted for Tbilisi's taxi services. The goal is to create a structured and transparent fare system that can inform policy changes and technological adoption in Tbilisi, contributing to a more regulated taxi market.\n",
    "\n",
    "From your abstract, it's clear that the NYC taxi dataset serves as a comprehensive, regulated example to contrast with the unregulated environment of Tbilisi, offering a structured framework for fare calculation with regulated fares based on distance, time, and additional surcharges. You plan to utilize machine learning techniques to predict fares by examining variables like trip distance, timing, and external conditions such as weather and public events.\n",
    "\n",
    "In terms of seasonality, your abstract and introduction do not directly state that seasonality is a primary focus. However, the model aims to explore key features that impact fare variability, which might include seasonal factors. Given that demand for taxis can indeed be influenced by seasonality due to tourism trends, weather conditions, and public holidays, it might be beneficial to include seasonality as a feature in your predictive model.\n",
    "\n",
    "Creating a seasonal feature involves categorizing data into seasons (spring, summer, autumn, winter) and analyzing how these categories correlate with fare amounts. If the data shows consistent patterns in trip demand across the same seasons year over year, it would justify including a seasonal feature in your model.\n",
    "\n",
    "In summary, based on the provided overview, you should consider the following:\n",
    "\n",
    "Include Seasonality if Relevant: If your initial EDA and literature review suggest that seasonal factors significantly affect taxi demand and fare prices in NYC, it would be reasonable to include a seasonal feature in your predictive model. This could then be considered in the context of Tbilisi when proposing policy changes or technological adaptations.\n",
    "Model Adaptation: When adapting your model to Tbilisi's context, remember that direct translations of seasonal impacts from NYC may not apply. Consider local seasonal factors that could affect Tbilisi differently, such as variations in weather, tourism patterns, and cultural events throughout the year.\n",
    "Comparative Analysis: Use the NYC model as a starting point and compare it with any available data from Tbilisi. If direct data on seasonality is not available for Tbilisi, use proxy indicators (e.g., tourism data, weather patterns) to hypothesize the potential seasonal effects on taxi demand and fares.\n",
    "Policy Implications: Your recommendations for Tbilisi should take into account the findings from the model, including any seasonal effects observed. Any policy or technological recommendations should be adaptable to the unique seasonal dynamics of the region."
   ]
  },
  {
   "cell_type": "markdown",
   "id": "0c3faa2c",
   "metadata": {},
   "source": [
    "## Dataset Overview\n",
    "\n",
    "In the section below we take a look at the overall dataset for 2023, look at the null values and determine the next steps for cleaning, preprocessing and feature engineering."
   ]
  },
  {
   "cell_type": "markdown",
   "id": "85dd1d24",
   "metadata": {},
   "source": [
    "| Field Name                  | Description |\n",
    "|-----------------------------|-------------|\n",
    "| `VendorID`                  | A code indicating the TPEP provider that provided the record. <br> 1 = Creative Mobile Technologies, LLC; <br> 2 = VeriFone Inc. |\n",
    "| `tpep_pickup_datetime`      | The date and time when the meter was engaged. |\n",
    "| `tpep_dropoff_datetime`     | The date and time when the meter was disengaged. |\n",
    "| `Trip_distance`             | The elapsed trip distance in miles reported by the taximeter. |\n",
    "| `PULocationID`              | TLC Taxi Zone in which the taximeter was engaged. |\n",
    "| `DOLocationID`              | TLC Taxi Zone in which the taximeter was disengaged. |\n",
    "| `Passenger_count`           | The number of passengers in the vehicle. This is a driver-entered value. |\n",
    "| `RateCodeID`                | The final rate code in effect at the end of the trip. <br> 1 = Standard rate <br> 2 = JFK <br> 3 = Newark <br> 4 = Nassau or Westchester <br> 5 = Negotiated fare <br> 6 = Group ride |\n",
    "| `Store_and_fwd_flag`        | This flag indicates whether the trip record was held in vehicle memory before sending to the vendor, aka \"store and forward,\" because the vehicle did not have a connection to the server. <br> Y = store and forward trip <br> N = not a store and forward trip |\n",
    "| `Payment_type`              | A numeric code signifying how the passenger paid for the trip. <br> 1 = Credit card <br> 2 = Cash <br> 3 = No charge <br> 4 = Dispute <br> 5 = Unknown <br> 6 = Voided trip |\n",
    "| `Fare_amount`               | The time-and-distance fare calculated by the meter. |\n",
    "| `Extra`                     | Miscellaneous extras and surcharges. Currently, this only includes the 0.50 and 1 rush hour and overnight charges. |\n",
    "| `MTA_tax`                   | 0.50 MTA tax that is automatically triggered based on the metered rate in use. |\n",
    "| `Improvement_surcharge`     | 0.30 improvement surcharge assessed trips at the flag drop. The improvement surcharge began being levied in 2015. |\n",
    "| `Tip_amount`                | Tip amount – This field is automatically populated for credit card tips. Cash tips are not included. |\n",
    "| `Tolls_amount`              | Total amount of all tolls paid in trip. |\n",
    "| `Total_amount`              | The total amount charged to passengers. Does not include cash tips. |\n",
    "| `Congestion_Surcharge`      | Total amount collected in trip for NYS congestion surcharge. |\n",
    "| `Airport_fee`               | 1.25 for pick up only at LaGuardia and John F. Kennedy Airports. |\n"
   ]
  },
  {
   "cell_type": "markdown",
   "id": "1084eb02",
   "metadata": {},
   "source": [
    "### Descriptive Stats"
   ]
  },
  {
   "cell_type": "code",
   "execution_count": 10,
   "id": "3416a59b",
   "metadata": {},
   "outputs": [
    {
     "name": "stdout",
     "output_type": "stream",
     "text": [
      "         VendorID  passenger_count  trip_distance  RatecodeID  PULocationID  \\\n",
      "count 38310226.00      37000870.00    38310226.00 37000870.00   38310226.00   \n",
      "mean         1.74             1.37           4.09        1.64        165.18   \n",
      "std          0.44             0.89         241.25        7.43         64.00   \n",
      "min          1.00             0.00           0.00        1.00          1.00   \n",
      "25%          1.00             1.00           1.04        1.00        132.00   \n",
      "50%          2.00             1.00           1.79        1.00        162.00   \n",
      "75%          2.00             1.00           3.40        1.00        234.00   \n",
      "max          6.00             9.00      345729.44       99.00        265.00   \n",
      "\n",
      "       DOLocationID  payment_type  fare_amount       extra     mta_tax  \\\n",
      "count   38310226.00   38310226.00  38310226.00 38310226.00 38310226.00   \n",
      "mean         163.95          1.18        19.52        1.56        0.49   \n",
      "std           69.86          0.56        75.73        2.45        0.11   \n",
      "min            1.00          0.00     -1087.30      -39.17       -0.50   \n",
      "25%          113.00          1.00         9.30        0.00        0.50   \n",
      "50%          162.00          1.00        13.50        1.00        0.50   \n",
      "75%          234.00          1.00        21.90        2.50        0.50   \n",
      "max          265.00          5.00    386983.63    10002.50       53.16   \n",
      "\n",
      "       tip_amount  tolls_amount  improvement_surcharge  total_amount  \\\n",
      "count 38310226.00   38310226.00            38310226.00   38310226.00   \n",
      "mean         3.52          0.59                   0.98         28.46   \n",
      "std          4.15          2.20                   0.20         77.13   \n",
      "min       -411.00        -91.30                  -1.00      -1094.05   \n",
      "25%          1.00          0.00                   1.00         15.95   \n",
      "50%          2.80          0.00                   1.00         21.00   \n",
      "75%          4.41          0.00                   1.00         30.72   \n",
      "max       4174.00        665.56                   1.00     386987.63   \n",
      "\n",
      "       congestion_surcharge  Airport_fee  airport_fee  \n",
      "count           37000870.00  34005847.00   2995023.00  \n",
      "mean                   2.26         0.14         0.11  \n",
      "std                    0.80         0.48         0.36  \n",
      "min                   -2.50        -1.75        -1.25  \n",
      "25%                    2.50         0.00         0.00  \n",
      "50%                    2.50         0.00         0.00  \n",
      "75%                    2.50         0.00         0.00  \n",
      "max                    2.75         1.75         1.25  \n"
     ]
    }
   ],
   "source": [
    "# Assuming 'df' is your DataFrame\n",
    "print(df.describe())"
   ]
  },
  {
   "cell_type": "markdown",
   "id": "a6ab2d23",
   "metadata": {},
   "source": [
    "We see already that some features have null values in them which we will analyze and adjust accordinlgy in the sections below. \n",
    "## Descriptive Statistics Overview\n",
    "\n",
    "The descriptive statistics provide a detailed summary of the data related to NYC taxi trips. Below is the interpretation of each column's statistics:\n",
    "\n",
    "### General Statistics\n",
    "\n",
    "- **Count**: Indicates the total number of non-missing entries for each feature.\n",
    "- **Mean**: Represents the average value across all entries for each feature.\n",
    "- **Std (Standard Deviation)**: Shows the amount of variation or dispersion from the average.\n",
    "- **Min (Minimum)**: The smallest value found in each feature.\n",
    "- **25% (1st Quartile)**: A quarter of the entries are below this value.\n",
    "- **50% (Median)**: The middle value when the data is ordered from least to greatest.\n",
    "- **75% (3rd Quartile)**: Three-quarters of the entries are below this value.\n",
    "- **Max (Maximum)**: The largest value found in each feature.\n",
    "\n",
    "### Feature-Specific Statistics\n",
    "\n",
    "- **VendorID**:\n",
    "  - Values range from 1 to 6, indicating different TPEP providers.\n",
    "  - Most trips are evenly split between the providers.\n",
    "\n",
    "- **Passenger Count**:\n",
    "  - The number of passengers ranges from 0 to 9 per trip.\n",
    "  - The majority of trips carry just one passenger.\n",
    "\n",
    "- **Trip Distance**:\n",
    "  - Distances range from 0 to 345,729.44 (likely indicating outliers or data errors).\n",
    "  - The average trip is approximately 4.09 miles, though the median value is lower at 1.79 miles, which suggests that there are some very long trips skewing the average higher.\n",
    "\n",
    "- **RatecodeID**:\n",
    "  - A majority of trips use the standard rate (code 1), with some outliers using code as high as 99 (which may indicate special rates or data errors), this is a ctaegorical feature that tells us what type of fare was used 99 based on the data dictionary indicates unknown or null.\n",
    "\n",
    "- **PULocationID** and **DOLocationID** (Pickup and Dropoff Location IDs)**:\n",
    "  - Both feature IDs range from 1 to 265, which corresponds to pre-defined taxi zones in NYC.\n",
    "  - The average pickup and dropoff locations are around the mid-160s, but this wide range suggests that taxis service a broad area of the city.\n",
    "\n",
    "- **Payment Type**:\n",
    "  - Ranges from 0 to 5, indicating different forms of payment.\n",
    "  - Most trips are paid with type 1, which based on our data dict indicate payments made by credit card\n",
    "\n",
    "- **Fare Amount**:\n",
    "  - Fares range from -1087.30 to 386,983.63, showing that there are likely errors or outliers in the data as negative fares and excessively high fares are not feasible.\n",
    "\n",
    "- **Extra Charges** (like late-night or rush hour fees)**:\n",
    "  - Values range from -39.17 to 10,002.50, also indicating potential data entry errors or outliers.\n",
    "\n",
    "- **MTA Tax**:\n",
    "  - Ranges from -0.50 to 53.16, with most trips showing the standard MTA tax of 0.50.\n",
    "\n",
    "- **Tip Amount**:\n",
    "  - Tips range from -411 to 4,174, with a mean tip of approximately 3.52.\n",
    "\n",
    "- **Tolls Amount**:\n",
    "  - Toll amounts have a wide range from -91.30 to 665.56, again suggesting some outliers or errors.\n",
    "\n",
    "- **Improvement Surcharge**:\n",
    "  - This has a smaller range of values, mostly being the standard surcharge of 1.00, but with a minimum indicating an erroneous entry at -1.00.\n",
    "\n",
    "- **Total Amount**:\n",
    "  - The total amount paid, including all surcharges and fees, ranges from -1094.05 to 386,987.63, which includes potential outliers or incorrect charges.\n",
    "\n",
    "- **Congestion Surcharge**:\n",
    "  - Reflects additional charges during peak times in congested areas, with most trips incurring the standard congestion surcharge of 2.50.\n",
    "\n",
    "- **Airport Fee**:\n",
    "  - Not all entries have airport fees, but for those that do, they range from -1.75 to 1.75, with negative values indicating potential data errors.\n",
    "\n",
    "### Observations and Actionable Insights\n",
    "\n",
    "The dataset contains some inconsistencies and potential errors, particularly in `trip_distance`, `fare_amount`, `extra`, `mta_tax`, `tip_amount`, `tolls_amount`, and `total_amount`. Before using this data for further analysis or model training, it's essential to perform data cleaning to remove or correct these outliers and erroneous entries. This will ensure the integrity and reliability of any conclusions drawn or predictive models developed from this dataset.\n",
    "\n"
   ]
  },
  {
   "cell_type": "markdown",
   "id": "3d17c0f2",
   "metadata": {},
   "source": [
    "### Null Values \n",
    "\n",
    "Below we will look at columns with null values and devise a strategy based on our knowledge and best practices on how to handle them."
   ]
  },
  {
   "cell_type": "code",
   "execution_count": 11,
   "id": "befe2986",
   "metadata": {},
   "outputs": [
    {
     "name": "stdout",
     "output_type": "stream",
     "text": [
      "VendorID                        0\n",
      "tpep_pickup_datetime            0\n",
      "tpep_dropoff_datetime           0\n",
      "passenger_count           1309356\n",
      "trip_distance                   0\n",
      "RatecodeID                1309356\n",
      "store_and_fwd_flag        1309356\n",
      "PULocationID                    0\n",
      "DOLocationID                    0\n",
      "payment_type                    0\n",
      "fare_amount                     0\n",
      "extra                           0\n",
      "mta_tax                         0\n",
      "tip_amount                      0\n",
      "tolls_amount                    0\n",
      "improvement_surcharge           0\n",
      "total_amount                    0\n",
      "congestion_surcharge      1309356\n",
      "Airport_fee               4304379\n",
      "airport_fee              35315203\n",
      "dtype: int64\n"
     ]
    }
   ],
   "source": [
    "# Count of null values per column\n",
    "print(df.isnull().sum())\n"
   ]
  },
  {
   "cell_type": "markdown",
   "id": "8de7a3ed",
   "metadata": {},
   "source": [
    "* Passenger count has null values which might be due to the fact that they are entered manually by taxi driver it might be data entry errors passenger count can be filed in using mode the most common passanger count.\n",
    "\n",
    "* ratecodeID also has empty values the same number as passanger count and congestion surcharge this all could be due to the data entry or processing errors. RateCodeID is a categorical variable that has different categories as the most common category based on descriptive statistics is 1 we can include 1 for our null values or add new category 7 which indicates- unknown\n",
    "\n",
    "* store_and_fwd_flag - This flag indicates whether the trip record was held in vehicle memory before sending to the vendor, aka \"store and forward,\" because the vehicle did not have a connection to the server the fact that this and other values have same number of missing values could indicate the fact that there was an issue of data collection. This column is not relavant for our analytical purposes thus we can fill the missing values with N stating that the records are not stored in the vehicle memory as the data is missing.\n",
    "\n",
    "* congestion surcharge - can be filled in with the most common amount for this feature.\n",
    "\n",
    "* airport-fee has missing values as not all the trips are airport trips and that is logical we can fill in the missing rows with 0-s assuming that the rows that do not have airport fee in them were not airport trips.  seem to have a significant number of missing values. Before taking action, investigate why these values are missing. If they're missing at random or because the trips didn't involve an airport, you might set them to 0.0. If the missing data is a substantial portion of the dataset, consider more complex imputation methods or keep them as NaN if the model can handle it."
   ]
  },
  {
   "cell_type": "markdown",
   "id": "29135d4f",
   "metadata": {},
   "source": [
    "## Handling Null Values"
   ]
  },
  {
   "cell_type": "markdown",
   "id": "fe5fda90",
   "metadata": {},
   "source": [
    "#### Passanger Count\n",
    "We fill passanger count with median he median is computed only from the non-null values in passenger_count. This ensures that the median calculation is accurate and not influenced by existing NaN values.\n",
    "Fill NaNs: Replacing NaNs with this median value ensures that you're not artificially deflating or inflating the typical passenger count."
   ]
  },
  {
   "cell_type": "code",
   "execution_count": 12,
   "id": "48c638f5",
   "metadata": {},
   "outputs": [],
   "source": [
    "# Fill missing values for 'passenger_count' with the median\n",
    "df['passenger_count'].fillna(df['passenger_count'].median(), inplace=True)"
   ]
  },
  {
   "cell_type": "markdown",
   "id": "b3d0e869",
   "metadata": {},
   "source": [
    "#### RatecodeID\n",
    "\n",
    "We fill ratecode ID with 1 as this is the most common data point.  "
   ]
  },
  {
   "cell_type": "code",
   "execution_count": 13,
   "id": "442183b7",
   "metadata": {},
   "outputs": [],
   "source": [
    "# Fill missing values for 'RatecodeID' with the most common value, which is typically 1 for standard rate\n",
    "df['RatecodeID'].fillna(1, inplace=True)\n"
   ]
  },
  {
   "cell_type": "markdown",
   "id": "b0620b63",
   "metadata": {},
   "source": [
    "#### store_and_fwd_flag\n",
    "We fill in missing values with N."
   ]
  },
  {
   "cell_type": "code",
   "execution_count": 14,
   "id": "1978f2bc",
   "metadata": {},
   "outputs": [],
   "source": [
    "# Fill missing values for 'store_and_fwd_flag' with 'N'\n",
    "df['store_and_fwd_flag'].fillna('N', inplace=True)"
   ]
  },
  {
   "cell_type": "markdown",
   "id": "4e6a0eb1",
   "metadata": {},
   "source": [
    "#### congestion_surcharge\n",
    "\n",
    "For congestion surcharge we assume that missing values as 0's meaning that the trips did not have congestion surcharge. "
   ]
  },
  {
   "cell_type": "code",
   "execution_count": 15,
   "id": "75be1057",
   "metadata": {},
   "outputs": [],
   "source": [
    "# Fill missing values for 'congestion_surcharge' with 0.0\n",
    "df['congestion_surcharge'].fillna(0.0, inplace=True)"
   ]
  },
  {
   "cell_type": "markdown",
   "id": "984432f0",
   "metadata": {},
   "source": [
    "### Airport Fees\n",
    "\n",
    "Airports fees can have missing values the number of missinbg values being this large indicates that tehre were not many airport trips the fact that we have 2 columns with airport fees populated and with diffrent number of missing entries indicates issues with data processing, based on our literature review we know thta this field was added to data collection around 2022 and is relatively new so there might be issues with data fetching or processing for this field as well thus we have 2 features. \n",
    "\n",
    "As we know $1.25 for pick up only at LaGuardia and John F. Kennedy Airports thus based on our descriptive statistics we know that airport fee has min max of 1.25 which indicates that this is the rate for JFK and laguardia and that 1.75 for other Airports.\n"
   ]
  },
  {
   "cell_type": "code",
   "execution_count": 16,
   "id": "dc9e160f",
   "metadata": {},
   "outputs": [
    {
     "name": "stdout",
     "output_type": "stream",
     "text": [
      "Updated column names:\n",
      "Index(['VendorID', 'tpep_pickup_datetime', 'tpep_dropoff_datetime',\n",
      "       'passenger_count', 'trip_distance', 'RatecodeID', 'store_and_fwd_flag',\n",
      "       'PULocationID', 'DOLocationID', 'payment_type', 'fare_amount', 'extra',\n",
      "       'mta_tax', 'tip_amount', 'tolls_amount', 'improvement_surcharge',\n",
      "       'total_amount', 'congestion_surcharge', 'General_Airport_Fee',\n",
      "       'JFK_LGA_Pickup_Fee'],\n",
      "      dtype='object')\n"
     ]
    }
   ],
   "source": [
    "\n",
    "\n",
    "# If after your investigation you decide to keep both columns, you may want to rename them for clarity\n",
    "#$1.25 for pick up only at LaGuardia and John F. Kennedy Airports based on our descirptive stats we decided\n",
    "#to rename our columns accordingly \n",
    "\n",
    "# Renaming columns for clarity\n",
    "df.rename(columns={\n",
    "    'Airport_fee': 'General_Airport_Fee',  # This seems to be a more general or incorrectly applied fee.\n",
    "    'airport_fee': 'JFK_LGA_Pickup_Fee'  # This is clearly the specific fee for JFK and LaGuardia as described.\n",
    "}, inplace=True)\n",
    "\n",
    "# Print new column names to confirm\n",
    "print(\"Updated column names:\")\n",
    "print(df.columns)\n",
    "\n"
   ]
  },
  {
   "cell_type": "code",
   "execution_count": 17,
   "id": "38fa6d36",
   "metadata": {},
   "outputs": [],
   "source": [
    "# Handle 'Airport_fee' based on domain knowledge, for example, setting missing values to 0.0\n",
    "df['General_Airport_Fee'].fillna(0.0, inplace=True)\n",
    "df['JFK_LGA_Pickup_Fee'].fillna(0.0, inplace=True)"
   ]
  },
  {
   "cell_type": "code",
   "execution_count": 18,
   "id": "3a4a8adf",
   "metadata": {},
   "outputs": [
    {
     "name": "stdout",
     "output_type": "stream",
     "text": [
      "count   38310226.00\n",
      "mean           0.13\n",
      "std            0.45\n",
      "min           -1.75\n",
      "25%            0.00\n",
      "50%            0.00\n",
      "75%            0.00\n",
      "max            1.75\n",
      "Name: General_Airport_Fee, dtype: float64\n",
      "count   38310226.00\n",
      "mean           0.01\n",
      "std            0.10\n",
      "min           -1.25\n",
      "25%            0.00\n",
      "50%            0.00\n",
      "75%            0.00\n",
      "max            1.25\n",
      "Name: JFK_LGA_Pickup_Fee, dtype: float64\n"
     ]
    }
   ],
   "source": [
    "print(df['General_Airport_Fee'].describe())\n",
    "print(df['JFK_LGA_Pickup_Fee'].describe())"
   ]
  },
  {
   "cell_type": "markdown",
   "id": "65418a39",
   "metadata": {},
   "source": [
    "now we see that there are no missing values in airport fees and we know better understand the 2 columns what they stand for. We can also check if the applied rates are correct so where 0 is for one type of airport fee the other is fille dor also 0."
   ]
  },
  {
   "cell_type": "markdown",
   "id": "cb214c1d",
   "metadata": {},
   "source": [
    "##### Check again for any prevailing null values "
   ]
  },
  {
   "cell_type": "code",
   "execution_count": 19,
   "id": "12904f66",
   "metadata": {},
   "outputs": [
    {
     "data": {
      "text/plain": [
       "VendorID                 0\n",
       "tpep_pickup_datetime     0\n",
       "tpep_dropoff_datetime    0\n",
       "passenger_count          0\n",
       "trip_distance            0\n",
       "RatecodeID               0\n",
       "store_and_fwd_flag       0\n",
       "PULocationID             0\n",
       "DOLocationID             0\n",
       "payment_type             0\n",
       "fare_amount              0\n",
       "extra                    0\n",
       "mta_tax                  0\n",
       "tip_amount               0\n",
       "tolls_amount             0\n",
       "improvement_surcharge    0\n",
       "total_amount             0\n",
       "congestion_surcharge     0\n",
       "General_Airport_Fee      0\n",
       "JFK_LGA_Pickup_Fee       0\n",
       "dtype: int64"
      ]
     },
     "execution_count": 19,
     "metadata": {},
     "output_type": "execute_result"
    }
   ],
   "source": [
    "df.isnull().sum()"
   ]
  },
  {
   "cell_type": "markdown",
   "id": "312de7b7",
   "metadata": {},
   "source": [
    "### Understanding and Working with Data Types in the dataset\n",
    "\n",
    "Below we look at the data types for each column in the dataset and if based on our knowledge and data dictionary provided by NYC taxi services we see discrepancies in the data type and feature we will adjust accordingly."
   ]
  },
  {
   "cell_type": "code",
   "execution_count": 20,
   "id": "cd34adc4",
   "metadata": {
    "scrolled": true
   },
   "outputs": [
    {
     "name": "stdout",
     "output_type": "stream",
     "text": [
      "VendorID                          int64\n",
      "tpep_pickup_datetime     datetime64[ns]\n",
      "tpep_dropoff_datetime    datetime64[ns]\n",
      "passenger_count                 float64\n",
      "trip_distance                   float64\n",
      "RatecodeID                      float64\n",
      "store_and_fwd_flag               object\n",
      "PULocationID                      int64\n",
      "DOLocationID                      int64\n",
      "payment_type                      int64\n",
      "fare_amount                     float64\n",
      "extra                           float64\n",
      "mta_tax                         float64\n",
      "tip_amount                      float64\n",
      "tolls_amount                    float64\n",
      "improvement_surcharge           float64\n",
      "total_amount                    float64\n",
      "congestion_surcharge            float64\n",
      "General_Airport_Fee             float64\n",
      "JFK_LGA_Pickup_Fee              float64\n",
      "dtype: object\n"
     ]
    }
   ],
   "source": [
    "# Check the data types\n",
    "print(df.dtypes)\n"
   ]
  },
  {
   "cell_type": "markdown",
   "id": "1aeac216",
   "metadata": {},
   "source": [
    "For categorical data types that we know are categorical from our data dictionary we can convert the numeric data types to categorical for modeling and feature engineering purpouses. \n",
    "\n",
    "Categorical Data is: \n",
    "\n",
    "* RatecodeID\n",
    "* store_and_fwd_flag\n",
    "* payment_type"
   ]
  },
  {
   "cell_type": "code",
   "execution_count": 21,
   "id": "307e062e",
   "metadata": {},
   "outputs": [
    {
     "data": {
      "text/plain": [
       "VendorID                       category\n",
       "tpep_pickup_datetime     datetime64[ns]\n",
       "tpep_dropoff_datetime    datetime64[ns]\n",
       "passenger_count                 float64\n",
       "trip_distance                   float64\n",
       "RatecodeID                     category\n",
       "store_and_fwd_flag             category\n",
       "PULocationID                      int64\n",
       "DOLocationID                      int64\n",
       "payment_type                   category\n",
       "fare_amount                     float64\n",
       "extra                           float64\n",
       "mta_tax                         float64\n",
       "tip_amount                      float64\n",
       "tolls_amount                    float64\n",
       "improvement_surcharge           float64\n",
       "total_amount                    float64\n",
       "congestion_surcharge            float64\n",
       "General_Airport_Fee             float64\n",
       "JFK_LGA_Pickup_Fee              float64\n",
       "dtype: object"
      ]
     },
     "execution_count": 21,
     "metadata": {},
     "output_type": "execute_result"
    }
   ],
   "source": [
    "# Convert categorical columns to 'category' data types\n",
    "categorical_columns = ['VendorID', 'RatecodeID', 'store_and_fwd_flag', 'payment_type']\n",
    "for col in categorical_columns:\n",
    "    df[col] = df[col].astype('category')\n",
    "\n",
    "# Confirm changes\n",
    "df.dtypes\n"
   ]
  },
  {
   "cell_type": "markdown",
   "id": "916ac68d",
   "metadata": {},
   "source": [
    "* Convert passenger_count to int64 after ensuring all NaN values are addressed (if applicable).\n",
    "* Convert PULocationID and DOLocationID to category, which can be beneficial for memory efficiency and performance when processing large datasets, especially if these fields are used more for grouping or identification rather than calculations.\n"
   ]
  },
  {
   "cell_type": "code",
   "execution_count": 25,
   "id": "569ac695",
   "metadata": {},
   "outputs": [
    {
     "name": "stdout",
     "output_type": "stream",
     "text": [
      "VendorID                       category\n",
      "tpep_pickup_datetime     datetime64[ns]\n",
      "tpep_dropoff_datetime    datetime64[ns]\n",
      "passenger_count                   int64\n",
      "trip_distance                   float64\n",
      "RatecodeID                     category\n",
      "store_and_fwd_flag             category\n",
      "PULocationID                   category\n",
      "DOLocationID                   category\n",
      "payment_type                   category\n",
      "fare_amount                     float64\n",
      "extra                           float64\n",
      "mta_tax                         float64\n",
      "tip_amount                      float64\n",
      "tolls_amount                    float64\n",
      "improvement_surcharge           float64\n",
      "total_amount                    float64\n",
      "congestion_surcharge            float64\n",
      "General_Airport_Fee             float64\n",
      "JFK_LGA_Pickup_Fee              float64\n",
      "dtype: object\n"
     ]
    }
   ],
   "source": [
    "# Convert 'passenger_count' to integer type\n",
    "df['passenger_count'] = df['passenger_count'].astype(int)\n",
    "\n",
    "# Convert location IDs to categorical\n",
    "df['PULocationID'] = df['PULocationID'].astype('category')\n",
    "df['DOLocationID'] = df['DOLocationID'].astype('category')\n",
    "\n",
    "# Confirm changes\n",
    "print(df.dtypes)"
   ]
  },
  {
   "cell_type": "markdown",
   "id": "f64e3268",
   "metadata": {},
   "source": [
    "## Data Cleaning Continued \n",
    "\n",
    "* Removing or correcting outliers: Especially in columns like fare_amount, trip_distance, and others where you've noticed extreme values.\n",
    "* Dealing with duplicates: If applicable, check for and remove duplicate records to ensure the integrity of your analysis.\n",
    "* Further handling of NaN values: Based on the strategy you decide (removal, imputation, etc.), consistently apply it across relevant features.\n"
   ]
  },
  {
   "cell_type": "markdown",
   "id": "30347822",
   "metadata": {},
   "source": [
    "### 1. Removing & Correcting Outliers"
   ]
  },
  {
   "cell_type": "markdown",
   "id": "b2207b2e",
   "metadata": {},
   "source": [
    "We can see that there are some unusual fare amounts as well as large trip dictances that might be due to erro in collecting data or technical glitch, we need to ensure that this outliers are adressed correctly to reduce and normalise the dataset for modeling."
   ]
  },
  {
   "cell_type": "markdown",
   "id": "4ea4c1a2",
   "metadata": {},
   "source": [
    "#### 1. Fare Amount\n",
    "Issue: Extremes such as -1087.30 and 386983.63 suggest errors or outliers.\n",
    "\n",
    "Given the extremes observed in your data, such as fares as low as -1087.30 and as high as 386983.63, a combination of both methods might be beneficial:\n",
    "\n",
    "1. **Initial Clean-up with Defined Thresholds:** Given the nature of taxi fare regulations and typical billing practices, start by setting reasonable bounds on what a taxi fare should be (e.g., fares must be non-negative and no more than 500). This initial clean-up can remove the most glaring errors or impossible values.\n",
    "\n",
    "2. **Refinement with IQR:** After the initial clean-up, use the IQR method to further refine the data and remove more subtle outliers. This ensures that your data does not contain improbable values that might be due to data entry errors or other anomalies but aren't as extreme as those initially removed.\n",
    "\n",
    "\n"
   ]
  },
  {
   "cell_type": "code",
   "execution_count": 26,
   "id": "bb9a914d",
   "metadata": {},
   "outputs": [
    {
     "name": "stdout",
     "output_type": "stream",
     "text": [
      "count   34339022.00\n",
      "mean          14.59\n",
      "std            8.07\n",
      "min            0.00\n",
      "25%            8.60\n",
      "50%           12.80\n",
      "75%           18.40\n",
      "max           40.80\n",
      "Name: fare_amount, dtype: float64\n"
     ]
    },
    {
     "data": {
      "image/png": "[encoded data removed]",
      "text/plain": [
       "<Figure size 720x432 with 1 Axes>"
      ]
     },
     "metadata": {
      "needs_background": "light"
     },
     "output_type": "display_data"
    },
    {
     "data": {
      "image/png": "[encoded data removed]",
      "text/plain": [
       "<Figure size 720x432 with 1 Axes>"
      ]
     },
     "metadata": {
      "needs_background": "light"
     },
     "output_type": "display_data"
    }
   ],
   "source": [
    "# Define initial thresholds\n",
    "df['fare_amount'] = df['fare_amount'].clip(lower=0, upper=500)  # Cap fares at $500 and floor at $0\n",
    "df['total_amount'] = df['total_amount'].clip(lower=0, upper=500)\n",
    "df['tip_amount'] = df['tip_amount'].clip(lower=0, upper= 100)\n",
    "# Calculate IQR and apply it to further clean the data\n",
    "Q1 = df['fare_amount'].quantile(0.25)\n",
    "Q3 = df['fare_amount'].quantile(0.75)\n",
    "IQR = Q3 - Q1\n",
    "lower_bound = Q1 - 1.5 * IQR\n",
    "upper_bound = Q3 + 1.5 * IQR\n",
    "\n",
    "# Remove outliers beyond the IQR bounds\n",
    "df = df[(df['fare_amount'] >= lower_bound) & (df['fare_amount'] <= upper_bound)]\n",
    "\n",
    "# Review the updated data\n",
    "print(df['fare_amount'].describe())\n",
    "\n",
    "# Boxplot for visual inspection of outliers\n",
    "plt.figure(figsize=(10, 6))\n",
    "sns.boxplot(x=df['fare_amount'])\n",
    "plt.title('Boxplot of Fare Amount')\n",
    "plt.show()\n",
    "\n",
    "\n",
    "# Histogram of 'fare_amount'\n",
    "plt.figure(figsize=(10, 6))\n",
    "sns.histplot(df['fare_amount'], bins=10, kde=False)\n",
    "plt.title('Histogram of Fare Amount')\n",
    "plt.show()"
   ]
  },
  {
   "cell_type": "markdown",
   "id": "4c55fd90",
   "metadata": {},
   "source": [
    "### 2. Other Amounts \n",
    "We will adress outliers here using the domain knowldega and information collected from NYC taxi trip page. \n",
    "\n",
    "####  **Extra**\n",
    "- **Issue:** Negative values and extremely high values like 10002.50.\n",
    "- **Solution:** Set reasonable limits based on typical surcharges.\n",
    "\n",
    "#### **MTA Tax**\n",
    "- **Issue:** Negative values don't make sense for a tax.\n",
    "- **Solution:** Ensure all tax values are non-negative and within expected range.\n",
    "\n",
    "#### **Tip Amount**\n",
    "- **Issue:** Negative tips are not plausible.\n",
    "- **Solution:** Tips should be non-negative and capped at a reasonable value based on fare.\n",
    "\n",
    "####  **Tolls Amount**\n",
    "- **Issue:** Negative tolls are incorrect.\n",
    "- **Solution:** Ensure tolls are non-negative and below a threshold where applicable.\n",
    "\n",
    "#### **Total Amount**\n",
    "- **Issue:** Extremely negative or high values.\n",
    "- **Solution:** Total should logically be at least the base fare plus other positive contributions (tips, tolls, taxes)."
   ]
  },
  {
   "cell_type": "code",
   "execution_count": 27,
   "id": "71310c75",
   "metadata": {},
   "outputs": [],
   "source": [
    "df['extra'] = df['extra'].clip(lower=0, upper=100)\n",
    "df['mta_tax'] = df['mta_tax'].clip(lower=0.50, upper=0.60)\n",
    "df['tolls_amount'] = df['tolls_amount'].clip(lower=0, upper=50)\n",
    "df['improvement_surcharge'] = df['improvement_surcharge'].clip(lower=1.00, upper=1.00)\n",
    "df['congestion_surcharge'] = df['congestion_surcharge'].clip(lower=2.50, upper=2.75)\n",
    "df['General_Airport_Fee'] = df['General_Airport_Fee'].clip(lower=0, upper=1.75)\n",
    "df['JFK_LGA_Pickup_Fee'] = df['JFK_LGA_Pickup_Fee'].clip(lower=0, upper=1.25)"
   ]
  },
  {
   "cell_type": "markdown",
   "id": "9e74f255",
   "metadata": {},
   "source": [
    "### Trip Distance and Passanger count \n",
    "\n",
    "Based on domain knowledge and law we need to limit the passanger count to 6 as that is the maximum passenger number in Taxis permited as for the trip distance the logical trip distance within the city and to the iarports that we can consider is 100 miles as well as trip distances should not be lower than 2 miles this are t"
   ]
  },
  {
   "cell_type": "code",
   "execution_count": 28,
   "id": "65adf921",
   "metadata": {},
   "outputs": [],
   "source": [
    "df['passenger_count'] = df['passenger_count'].clip(lower = 1, upper=6)\n",
    "df['trip_distance'] = df['trip_distance'].clip(lower= 1, upper=100)"
   ]
  },
  {
   "cell_type": "markdown",
   "id": "620423aa",
   "metadata": {},
   "source": [
    "### Results"
   ]
  },
  {
   "cell_type": "code",
   "execution_count": null,
   "id": "386a1e7d",
   "metadata": {},
   "outputs": [],
   "source": [
    "df.describe()"
   ]
  },
  {
   "cell_type": "code",
   "execution_count": null,
   "id": "229c1baa",
   "metadata": {},
   "outputs": [],
   "source": [
    "\n",
    "# Set the aesthetic style of the plots\n",
    "sns.set_style(\"whitegrid\")\n",
    "\n",
    "# List of columns to plot\n",
    "columns = ['passenger_count', 'trip_distance', 'fare_amount', 'extra', 'mta_tax',\n",
    "           'tip_amount', 'tolls_amount', 'improvement_surcharge', 'total_amount',\n",
    "           'congestion_surcharge', 'General_Airport_Fee', 'JFK_LGA_Pickup_Fee']\n",
    "\n",
    "# Create a figure and a set of subplots\n",
    "fig, axes = plt.subplots(nrows=4, ncols=3, figsize=(15, 20))\n",
    "\n",
    "# Flatten the array of axes for easy iteration\n",
    "axes = axes.flatten()\n",
    "\n",
    "# Plot each column\n",
    "for i, col in enumerate(columns):\n",
    "    sns.boxplot(x=df[col], ax=axes[i])\n",
    "    axes[i].set_title(col, fontsize=14)\n",
    "    axes[i].set_xlabel('')\n",
    "\n",
    "# Adjust layout\n",
    "plt.tight_layout()\n",
    "plt.show()\n"
   ]
  },
  {
   "cell_type": "code",
   "execution_count": null,
   "id": "3afef486",
   "metadata": {},
   "outputs": [],
   "source": [
    "\n",
    "# Set the aesthetic style of the plots\n",
    "sns.set_style(\"whitegrid\")\n",
    "\n",
    "# List of columns to plot\n",
    "columns = ['passenger_count', 'trip_distance', 'fare_amount', 'extra', 'mta_tax',\n",
    "           'tip_amount', 'tolls_amount', 'improvement_surcharge', 'total_amount',\n",
    "           'congestion_surcharge', 'General_Airport_Fee', 'JFK_LGA_Pickup_Fee']\n",
    "\n",
    "# Create a figure and a set of subplots\n",
    "fig, axes = plt.subplots(nrows=4, ncols=3, figsize=(15, 20))\n",
    "\n",
    "# Flatten the array of axes for easy iteration\n",
    "axes = axes.flatten()\n",
    "\n",
    "# Plot each column\n",
    "for i, col in enumerate(columns):\n",
    "    sns.boxplot(x=df[col], ax=axes[i])\n",
    "    axes[i].set_title(col, fontsize=14)\n",
    "    axes[i].set_xlabel('')\n",
    "\n",
    "# Adjust layout\n",
    "plt.tight_layout()\n",
    "plt.show()"
   ]
  },
  {
   "cell_type": "code",
   "execution_count": null,
   "id": "32dd08e6",
   "metadata": {},
   "outputs": [],
   "source": [
    "df['total_amount'] = df['total_amount'].clip(lower=0, upper=500)\n",
    "df['tip_amount'] = df['tip_amount'].clip(lower=0, upper=200)"
   ]
  },
  {
   "cell_type": "markdown",
   "id": "62ebb517",
   "metadata": {},
   "source": [
    "Based on the box plots provided, we can infer the following about the data:\n",
    "\n",
    "1. **Passenger Count**: Outliers are not significant here, as all counts are within an expected range (0 to 6 passengers).\n",
    "\n",
    "2. **Trip Distance**: Most data points are clustered near the lower end, but there are a few extreme outliers. Since the maximum distance has already been capped at 100 miles, which seems reasonable for a taxi trip, you could leave these outliers if they represent legitimate long-distance trips, or further investigate if there are errors in data entry.\n",
    "\n",
    "3. **Fare Amount**: This looks fairly normal except for a few extreme outliers. These outliers may need to be investigated or capped further if they are unrealistic.\n",
    "\n",
    "4. **Extra**: There are a few outliers which are significantly higher than the main distribution of the data. You may consider capping this based on a reasonable expectation of charges (e.g., nighttime or peak hour surcharges).\n",
    "\n",
    "5. **MTA Tax**: The data is tightly concentrated around $0.50, with no visible outliers. This appears to be correctly capped already.\n",
    "\n",
    "6. **Tip Amount**: The outliers stretch significantly, indicating very large tips. We capped tips at 200 which is reasonable amount for  a taxi trip the max amount based on our resarch was 100 but I decided to leave more.\n",
    "\n",
    "7. **Tolls Amount**: While there are outliers, if they correspond to actual tolls paid on long-distance trips, they may be legitimate. You could verify if these toll amounts make sense or cap them at a maximum value if they are due to data entry errors.\n",
    "\n",
    "8. **Improvement Surcharge**: All data points are at $1.00, as expected.\n",
    "\n",
    "9. **Total Amount**: There are outliers present. You may want to cap this at a value that is consistent with the maximum possible fare, accounting for all possible surcharges and fees.\n",
    "\n",
    "10. **Congestion Surcharge**: The congestion surcharge is tightly clustered around $2.50, with no outliers.\n",
    "\n",
    "11. **General Airport Fee**: There are outliers present that are significantly higher than the standard fee. Further investigation into these outliers is necessary.\n",
    "\n",
    "12. **JFK_LGA_Pickup Fee**: Most values are clustered around zero, with a few outliers. If the outliers don't make sense based on domain knowledge (e.g., fees higher than the regulated airport pickup fees), they should be addressed.\n",
    "\n"
   ]
  },
  {
   "cell_type": "code",
   "execution_count": null,
   "id": "a2a7ddca",
   "metadata": {},
   "outputs": [],
   "source": [
    "# Create a figure and a set of subplots\n",
    "fig, axes = plt.subplots(nrows=4, ncols=3, figsize=(15, 20))\n",
    "\n",
    "# Flatten the array of axes for easy iteration\n",
    "axes = axes.flatten()\n",
    "\n",
    "# Plot histograms for each column\n",
    "for i, col in enumerate(columns):\n",
    "    sns.histplot(df[col], bins=30, kde=False, ax=axes[i])\n",
    "    axes[i].set_title(col, fontsize=14)\n",
    "    axes[i].set_xlabel('')\n",
    "\n",
    "# Adjust layout\n",
    "plt.tight_layout()\n",
    "plt.show()\n"
   ]
  },
  {
   "cell_type": "code",
   "execution_count": null,
   "id": "32f91878",
   "metadata": {},
   "outputs": [],
   "source": [
    "# Set the aesthetic style of the plots\n",
    "sns.set_style(\"whitegrid\")\n",
    "\n",
    "# List of columns to plot\n",
    "columns = ['passenger_count', 'trip_distance', 'fare_amount', 'extra', 'mta_tax',\n",
    "           'tip_amount', 'tolls_amount', 'improvement_surcharge', 'total_amount',\n",
    "           'congestion_surcharge', 'General_Airport_Fee', 'JFK_LGA_Pickup_Fee']\n",
    "\n",
    "# Create a figure and a set of subplots\n",
    "fig, axes = plt.subplots(nrows=4, ncols=3, figsize=(15, 20))\n",
    "\n",
    "# Flatten the array of axes for easy iteration\n",
    "axes = axes.flatten()\n",
    "\n",
    "# Plot each column\n",
    "for i, col in enumerate(columns):\n",
    "    sns.boxplot(x=df[col], ax=axes[i])\n",
    "    axes[i].set_title(col, fontsize=14)\n",
    "    axes[i].set_xlabel('')\n",
    "\n",
    "# Adjust layout\n",
    "plt.tight_layout()\n",
    "plt.show()\n"
   ]
  },
  {
   "cell_type": "markdown",
   "id": "9455379c",
   "metadata": {},
   "source": [
    "### removing duplicates\n",
    "\n",
    "To ensure data entegrity it is also important to remove any dulicate values"
   ]
  },
  {
   "cell_type": "code",
   "execution_count": null,
   "id": "cd0c3c90",
   "metadata": {},
   "outputs": [],
   "source": [
    "chunk_size = 500000  # Number of rows per chunk; adjust based on your system's memory capacity\n",
    "chunks = [x for x in np.array_split(df, np.arange(chunk_size, len(df), chunk_size))]\n",
    "\n",
    "# Remove duplicates from each chunk\n",
    "deduped_chunks = [chunk.drop_duplicates().reset_index(drop=True) for chunk in chunks]\n",
    "\n",
    "# Concatenate the chunks back together\n",
    "df_deduped = pd.concat(deduped_chunks, ignore_index=True)\n",
    "\n",
    "print(\"New DataFrame size after removing duplicates:\", df_deduped.shape)\n",
    "\n"
   ]
  },
  {
   "cell_type": "code",
   "execution_count": null,
   "id": "d83d222a",
   "metadata": {},
   "outputs": [],
   "source": [
    "df = df_deduped"
   ]
  },
  {
   "cell_type": "markdown",
   "id": "6f052cc2",
   "metadata": {},
   "source": [
    "# Feature Engineering\n",
    "\n",
    "It seems you are ready to progress to more advanced stages of your data analysis. Here are some steps you can take:\n",
    "\n",
    "1. **Feature Engineering**: Introduce new features that could be significant for the model:\n",
    "    - **Time of Day**: Create a new feature based on the `tpep_pickup_datetime` and `tpep_dropoff_datetime` that categorizes each trip into time slots such as morning, afternoon, evening, and night.\n",
    "    - **Seasons**: Add a feature for the season of the year the trip took place in.\n",
    "    - **Passenger Count Categories**: Classify the `passenger_count` into categories like low (1), medium (2-4), and high (5-6).\n",
    "    - **Weekday/Weekend**: Determine whether the trip took place on a weekday or weekend.\n",
    "\n",
    "2. **Standardization and Normalization**: If your model requires it, scale your features to have a mean of 0 and a standard deviation of 1, or normalize them to be between 0 and 1.\n",
    "\n",
    "3. **Correlation Check**: Use Pearson or Spearman correlation to check how strongly your features are related to the target variable (`fare_amount`), and to each other, which can help in reducing multicollinearity.\n",
    "\n",
    "4. **Segmentation**: Consider creating segments within your data based on geography (zones), time (rush hour, non-rush hours), and trip types (airport, non-airport) for more targeted analysis.\n",
    "\n",
    "5. **Handling Missing Values and Duplicates**: Ensure that all missing values are handled appropriately (whether filled or dropped), and remove any duplicates to clean the dataset.\n",
    "\n",
    "6. **Visualization**: Use visual tools like box plots and histograms to understand distributions and outliers after feature engineering.\n",
    "\n",
    "7. **Hypothesis Testing**: If there are specific assumptions or hypotheses you want to test (like the impact of weather on fares), this would be the time to conduct such tests using statistical methods.\n",
    "\n",
    "8. **Model Training and Validation**: Start with simpler models and gradually move to more complex ones. Use cross-validation to assess model performance and avoid overfitting.\n",
    "\n"
   ]
  },
  {
   "cell_type": "code",
   "execution_count": null,
   "id": "99ccfe50",
   "metadata": {},
   "outputs": [],
   "source": [
    "\n",
    "\n",
    "# Assuming 'df' is your main DataFrame\n",
    "\n",
    "# Convert the pickup and dropoff datetime to pandas datetime format if not already\n",
    "df['tpep_pickup_datetime'] = pd.to_datetime(df['tpep_pickup_datetime'])\n",
    "df['tpep_dropoff_datetime'] = pd.to_datetime(df['tpep_dropoff_datetime'])\n",
    "\n",
    "# Time of day segmentation\n",
    "df['pickup_time_of_day'] = df['tpep_pickup_datetime'].dt.hour.apply(lambda x: 'morning' if 5 <= x <= 11\n",
    "                                                                           else 'afternoon' if 12 <= x <= 17\n",
    "                                                                           else 'evening' if 18 <= x <= 23\n",
    "                                                                           else 'night')\n",
    "\n",
    "# Seasons segmentation\n",
    "df['pickup_season'] = df['tpep_pickup_datetime'].dt.month.apply(lambda x: 'spring' if 3 <= x <= 5\n",
    "                                                                       else 'summer' if 6 <= x <= 8\n",
    "                                                                       else 'autumn' if 9 <= x <= 11\n",
    "                                                                       else 'winter')\n",
    "\n",
    "# Passenger count categories\n",
    "df['passenger_count_category'] = pd.cut(df['passenger_count'], bins=[0, 1, 4, 6], include_lowest=True, \n",
    "                                        labels=['low', 'medium', 'high'])\n",
    "\n",
    "# Weekday/Weekend segmentation\n",
    "df['pickup_day_type'] = df['tpep_pickup_datetime'].dt.day_name().apply(lambda x: 'weekend' if x in ['Saturday', 'Sunday'] else 'weekday')\n",
    "\n",
    "# Check for US federal holidays\n",
    "cal = calander()\n"
   ]
  },
  {
   "cell_type": "code",
   "execution_count": null,
   "id": "e5cfeb03",
   "metadata": {},
   "outputs": [],
   "source": [
    "# Check if 'pickup_season' is correctly categorized\n",
    "season_counts = df['pickup_season'].value_counts()\n",
    "print(season_counts)\n",
    "\n",
    "# Check if 'pickup_time_of_day' is correctly categorized\n",
    "time_of_day_counts = df['pickup_time_of_day'].value_counts()\n",
    "print(time_of_day_counts)\n",
    "\n",
    "# Check if 'pickup_day_type' is correctly categorized for weekdays and weekends\n",
    "day_type_counts = df['pickup_day_type'].value_counts()\n",
    "print(day_type_counts)\n",
    "\n",
    "# To check all together\n",
    "summary = df.groupby(['pickup_day_type', 'pickup_time_of_day', 'pickup_season'])['fare_amount'].count()\n",
    "print(summary)\n"
   ]
  },
  {
   "cell_type": "code",
   "execution_count": null,
   "id": "25fa3e03",
   "metadata": {},
   "outputs": [],
   "source": [
    "df.head(2)"
   ]
  },
  {
   "cell_type": "code",
   "execution_count": null,
   "id": "b00f3208",
   "metadata": {},
   "outputs": [],
   "source": []
  },
  {
   "cell_type": "code",
   "execution_count": null,
   "id": "51909488",
   "metadata": {},
   "outputs": [],
   "source": [
    "# Plotting the distribution of pickups by season\n",
    "plt.figure(figsize=(10, 5))\n",
    "sns.countplot(x='pickup_season', data=df)\n",
    "plt.title('Pickup Distribution by Season')\n",
    "plt.show()\n",
    "\n",
    "# Plotting the distribution of pickups by time of day\n",
    "plt.figure(figsize=(10, 5))\n",
    "sns.countplot(x='pickup_time_of_day', data=df, order=['morning', 'afternoon', 'evening', 'night'])\n",
    "plt.title('Pickup Distribution by Time of Day')\n",
    "plt.show()\n",
    "\n",
    "# Plotting the distribution of pickups by day type\n",
    "plt.figure(figsize=(10, 5))\n",
    "sns.countplot(x='pickup_day_type', data=df, order=['weekday', 'weekend'])\n",
    "plt.title('Pickup Distribution by Day Type')\n",
    "plt.show()\n"
   ]
  },
  {
   "cell_type": "code",
   "execution_count": null,
   "id": "b6df27c1",
   "metadata": {},
   "outputs": [],
   "source": [
    "\n",
    "\n",
    "# Summary statistics for the newly created categorical features\n",
    "print(df[['pickup_time_of_day', 'pickup_season', 'passenger_count_category', 'pickup_day_type']].describe())\n",
    "\n",
    "# Distribution of fares\n",
    "plt.figure(figsize=(10, 5))\n",
    "sns.histplot(df['fare_amount'], bins=30, kde=True)\n",
    "plt.title('Distribution of Fare Amounts')\n",
    "plt.xlabel('Fare Amount')\n",
    "plt.ylabel('Frequency')\n",
    "plt.show()\n",
    "\n",
    "# Fares over time of day\n",
    "plt.figure(figsize=(10, 5))\n",
    "sns.boxplot(x='pickup_time_of_day', y='fare_amount', data=df)\n",
    "plt.title('Fare Amount by Time of Day')\n",
    "plt.xlabel('Time of Day')\n",
    "plt.ylabel('Fare Amount')\n",
    "plt.show()\n",
    "\n",
    "# Fares by season\n",
    "plt.figure(figsize=(10, 5))\n",
    "sns.boxplot(x='pickup_season', y='fare_amount', data=df)\n",
    "plt.title('Fare Amount by Season')\n",
    "plt.xlabel('Season')\n",
    "plt.ylabel('Fare Amount')\n",
    "plt.show()\n",
    "\n",
    "# Fares by passenger count categories\n",
    "plt.figure(figsize=(10, 5))\n",
    "sns.boxplot(x='passenger_count_category', y='fare_amount', data=df)\n",
    "plt.title('Fare Amount by Passenger Count Category')\n",
    "plt.xlabel('Passenger Count Category')\n",
    "plt.ylabel('Fare Amount')\n",
    "plt.show()\n",
    "\n",
    "# Fares by day type\n",
    "plt.figure(figsize=(10, 5))\n",
    "sns.boxplot(x='pickup_day_type', y='fare_amount', data=df)\n",
    "plt.title('Fare Amount by Day Type')\n",
    "plt.xlabel('Day Type')\n",
    "plt.ylabel('Fare Amount')\n",
    "plt.show()\n"
   ]
  },
  {
   "cell_type": "markdown",
   "id": "03ea41c5",
   "metadata": {},
   "source": [
    "Fare Amount by Time of Day: This plot categorizes trips into different times of the day: morning, afternoon, evening, and night. It's useful for analyzing how the fare amount varies throughout the day. It appears there are some variations in median fare amounts, with the evening potentially showing higher median fares.\n",
    "Fare Amount by Season: Here, the data is categorized by season: spring, summer, autumn, winter. This can help identify seasonal patterns in taxi fares, for example, whether fares are typically higher in tourist seasons like summer or lower in other seasons.\n",
    "Fare Amount by Passenger Count Category: This plot segments the fare amounts based on the number of passengers categorized as low, medium, or high. It helps to understand if the number of passengers influences the fare amount.\n",
    "Fare Amount by Day Type: It distinguishes between fares on weekdays and weekends. This could highlight differences in travel patterns, such as higher weekend fares due to leisure travel or lower ones if there's less commuter traffic.\n"
   ]
  }
 ],
 "metadata": {
  "kernelspec": {
   "display_name": "Python 3 (ipykernel)",
   "language": "python",
   "name": "python3"
  },
  "language_info": {
   "codemirror_mode": {
    "name": "ipython",
    "version": 3
   },
   "file_extension": ".py",
   "mimetype": "text/x-python",
   "name": "python",
   "nbconvert_exporter": "python",
   "pygments_lexer": "ipython3",
   "version": "3.9.7"
  }
 },
 "nbformat": 4,
 "nbformat_minor": 5
}
